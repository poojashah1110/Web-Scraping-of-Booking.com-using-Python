{
 "cells": [
  {
   "cell_type": "markdown",
   "metadata": {},
   "source": [
    "# Project Info:\n",
    "\n",
    "### Name: Pooja Shah\n",
    "### Topic: Web Scraping of Booking.com, Lille\n",
    "\n",
    "For this project, I have collected the below information from Booking.com for the city of Lille. \n",
    "The data is extracted on monthly basis for a total of 12 months from **December 2020 to November 2021**. \n",
    "\n",
    "- Hotel/Apartment Name                                                                   \n",
    "- Location (in Lille)\n",
    "- Total Price in Euros (for the selected period i.e. month)\n",
    "- Number of nights\n",
    "- Number of persons\n",
    "- Room Type\n",
    "- Beds\n",
    "- Rating\n",
    "- Rating Title\n",
    "- Number of reviews\n",
    "- Distance from city centre\n",
    "- Booking start date\n",
    "- Booking end date\n",
    "- Is breakfast included in the price?\n",
    "- Is free cancellation option applicable?\n",
    "\n",
    "The analysis and visualizations in this Jupyter Notebook are divided in 3 major parts - \n",
    "\n",
    "1. Availability\n",
    "2. Price\n",
    "3. Ratings & Reviews\n"
   ]
  },
  {
   "cell_type": "code",
   "execution_count": 1,
   "metadata": {},
   "outputs": [],
   "source": [
    "# Importing necessary libraries\n",
    "import pandas as pd\n",
    "import numpy as np\n",
    "import matplotlib.pyplot as plt\n",
    "import seaborn as sns"
   ]
  },
  {
   "cell_type": "code",
   "execution_count": 2,
   "metadata": {
    "scrolled": true
   },
   "outputs": [
    {
     "data": {
      "text/html": [
       "<div>\n",
       "<style scoped>\n",
       "    .dataframe tbody tr th:only-of-type {\n",
       "        vertical-align: middle;\n",
       "    }\n",
       "\n",
       "    .dataframe tbody tr th {\n",
       "        vertical-align: top;\n",
       "    }\n",
       "\n",
       "    .dataframe thead th {\n",
       "        text-align: right;\n",
       "    }\n",
       "</style>\n",
       "<table border=\"1\" class=\"dataframe\">\n",
       "  <thead>\n",
       "    <tr style=\"text-align: right;\">\n",
       "      <th></th>\n",
       "      <th>name</th>\n",
       "      <th>location</th>\n",
       "      <th>total_price</th>\n",
       "      <th>Nbr_of_nights</th>\n",
       "      <th>Nbr_of_persons</th>\n",
       "      <th>room_type</th>\n",
       "      <th>beds</th>\n",
       "      <th>rating</th>\n",
       "      <th>rating_title</th>\n",
       "      <th>number_of_ratings</th>\n",
       "      <th>distance_from_centre</th>\n",
       "      <th>start_date</th>\n",
       "      <th>end_date</th>\n",
       "      <th>breakfast_inclusion</th>\n",
       "      <th>free_cancellation</th>\n",
       "      <th>url</th>\n",
       "    </tr>\n",
       "  </thead>\n",
       "  <tbody>\n",
       "    <tr>\n",
       "      <th>2711</th>\n",
       "      <td>NOCNOC - La Villa Cachee</td>\n",
       "      <td>Lille Centre</td>\n",
       "      <td>11386</td>\n",
       "      <td>29</td>\n",
       "      <td>2</td>\n",
       "      <td>Villa</td>\n",
       "      <td>14 beds(7 singles, 5 doubles, 2 sofa beds)</td>\n",
       "      <td>7.8</td>\n",
       "      <td>Good</td>\n",
       "      <td>5 reviews</td>\n",
       "      <td>900 m</td>\n",
       "      <td>Monday 1 November 2021</td>\n",
       "      <td>Tuesday 30 November 2021</td>\n",
       "      <td>Not Included</td>\n",
       "      <td>No Free Cancellation</td>\n",
       "      <td>https://www.booking.com/hotel/fr/la-villa-cach...</td>\n",
       "    </tr>\n",
       "    <tr>\n",
       "      <th>2712</th>\n",
       "      <td>Bright and cosy duplex with terrace at the hea...</td>\n",
       "      <td>Vieux Lille</td>\n",
       "      <td>40282</td>\n",
       "      <td>29</td>\n",
       "      <td>2</td>\n",
       "      <td>Apartment</td>\n",
       "      <td>2 beds(1 double, 1 sofa bed)</td>\n",
       "      <td>NaN</td>\n",
       "      <td>NaN</td>\n",
       "      <td>NaN</td>\n",
       "      <td>800 m</td>\n",
       "      <td>Monday 1 November 2021</td>\n",
       "      <td>Tuesday 30 November 2021</td>\n",
       "      <td>Not Included</td>\n",
       "      <td>No Free Cancellation</td>\n",
       "      <td>https://www.booking.com/hotel/fr/bright-and-co...</td>\n",
       "    </tr>\n",
       "  </tbody>\n",
       "</table>\n",
       "</div>"
      ],
      "text/plain": [
       "                                                   name      location  \\\n",
       "2711                           NOCNOC - La Villa Cachee  Lille Centre   \n",
       "2712  Bright and cosy duplex with terrace at the hea...   Vieux Lille   \n",
       "\n",
       "     total_price  Nbr_of_nights  Nbr_of_persons  room_type  \\\n",
       "2711       11386             29               2      Villa   \n",
       "2712       40282             29               2  Apartment   \n",
       "\n",
       "                                            beds  rating rating_title  \\\n",
       "2711  14 beds(7 singles, 5 doubles, 2 sofa beds)     7.8         Good   \n",
       "2712                2 beds(1 double, 1 sofa bed)     NaN          NaN   \n",
       "\n",
       "     number_of_ratings distance_from_centre              start_date  \\\n",
       "2711         5 reviews                900 m  Monday 1 November 2021   \n",
       "2712               NaN                800 m  Monday 1 November 2021   \n",
       "\n",
       "                      end_date breakfast_inclusion     free_cancellation  \\\n",
       "2711  Tuesday 30 November 2021        Not Included  No Free Cancellation   \n",
       "2712  Tuesday 30 November 2021        Not Included  No Free Cancellation   \n",
       "\n",
       "                                                    url  \n",
       "2711  https://www.booking.com/hotel/fr/la-villa-cach...  \n",
       "2712  https://www.booking.com/hotel/fr/bright-and-co...  "
      ]
     },
     "execution_count": 2,
     "metadata": {},
     "output_type": "execute_result"
    }
   ],
   "source": [
    "#Reading the csv extracted by web-scraping\n",
    "booking_data = pd.read_csv('Booking Hotels Monthly Data_Pooja Shah.csv')\n",
    "\n",
    "#Copying the data to another dataframe\n",
    "df = booking_data.copy()\n",
    "df.tail(2)"
   ]
  },
  {
   "cell_type": "code",
   "execution_count": 3,
   "metadata": {},
   "outputs": [
    {
     "data": {
      "text/plain": [
       "(2713, 16)"
      ]
     },
     "execution_count": 3,
     "metadata": {},
     "output_type": "execute_result"
    }
   ],
   "source": [
    "df.shape"
   ]
  },
  {
   "cell_type": "code",
   "execution_count": 4,
   "metadata": {},
   "outputs": [
    {
     "name": "stdout",
     "output_type": "stream",
     "text": [
      "<class 'pandas.core.frame.DataFrame'>\n",
      "RangeIndex: 2713 entries, 0 to 2712\n",
      "Data columns (total 16 columns):\n",
      " #   Column                Non-Null Count  Dtype  \n",
      "---  ------                --------------  -----  \n",
      " 0   name                  2713 non-null   object \n",
      " 1   location              2713 non-null   object \n",
      " 2   total_price           2713 non-null   object \n",
      " 3   Nbr_of_nights         2713 non-null   int64  \n",
      " 4   Nbr_of_persons        2713 non-null   int64  \n",
      " 5   room_type             2713 non-null   object \n",
      " 6   beds                  2688 non-null   object \n",
      " 7   rating                1345 non-null   float64\n",
      " 8   rating_title          1345 non-null   object \n",
      " 9   number_of_ratings     1345 non-null   object \n",
      " 10  distance_from_centre  2713 non-null   object \n",
      " 11  start_date            2713 non-null   object \n",
      " 12  end_date              2713 non-null   object \n",
      " 13  breakfast_inclusion   2713 non-null   object \n",
      " 14  free_cancellation     2713 non-null   object \n",
      " 15  url                   2713 non-null   object \n",
      "dtypes: float64(1), int64(2), object(13)\n",
      "memory usage: 339.2+ KB\n"
     ]
    }
   ],
   "source": [
    "df.info()"
   ]
  },
  {
   "cell_type": "markdown",
   "metadata": {},
   "source": [
    "# 1. Accomodation Option Analysis"
   ]
  },
  {
   "cell_type": "markdown",
   "metadata": {},
   "source": [
    "### Total Accomodations Per Month :\n"
   ]
  },
  {
   "cell_type": "code",
   "execution_count": 5,
   "metadata": {},
   "outputs": [
    {
     "data": {
      "text/plain": [
       "0    [Tuesday, 1, December, 2020]\n",
       "1    [Tuesday, 1, December, 2020]\n",
       "2    [Tuesday, 1, December, 2020]\n",
       "Name: start_date, dtype: object"
      ]
     },
     "execution_count": 5,
     "metadata": {},
     "output_type": "execute_result"
    }
   ],
   "source": [
    "# Splitting the month and year from long date \n",
    "month_split = df['start_date'].str.split()\n",
    "month_split.head(3)\n"
   ]
  },
  {
   "cell_type": "code",
   "execution_count": 6,
   "metadata": {},
   "outputs": [],
   "source": [
    "# Joining the last 2 indexes to display month and year for the graphs\n",
    "month = []\n",
    "for mon in month_split:\n",
    "   month.append(' '.join(mon[2:4]))"
   ]
  },
  {
   "cell_type": "code",
   "execution_count": 7,
   "metadata": {},
   "outputs": [],
   "source": [
    "#Creating new column called \"Month\"\n",
    "df['Month'] = month"
   ]
  },
  {
   "cell_type": "code",
   "execution_count": 8,
   "metadata": {
    "scrolled": true
   },
   "outputs": [
    {
     "data": {
      "text/html": [
       "<div>\n",
       "<style scoped>\n",
       "    .dataframe tbody tr th:only-of-type {\n",
       "        vertical-align: middle;\n",
       "    }\n",
       "\n",
       "    .dataframe tbody tr th {\n",
       "        vertical-align: top;\n",
       "    }\n",
       "\n",
       "    .dataframe thead th {\n",
       "        text-align: right;\n",
       "    }\n",
       "</style>\n",
       "<table border=\"1\" class=\"dataframe\">\n",
       "  <thead>\n",
       "    <tr style=\"text-align: right;\">\n",
       "      <th></th>\n",
       "      <th>Month</th>\n",
       "      <th>Count</th>\n",
       "    </tr>\n",
       "  </thead>\n",
       "  <tbody>\n",
       "    <tr>\n",
       "      <th>0</th>\n",
       "      <td>December 2020</td>\n",
       "      <td>215</td>\n",
       "    </tr>\n",
       "    <tr>\n",
       "      <th>1</th>\n",
       "      <td>January 2021</td>\n",
       "      <td>224</td>\n",
       "    </tr>\n",
       "    <tr>\n",
       "      <th>2</th>\n",
       "      <td>February 2021</td>\n",
       "      <td>255</td>\n",
       "    </tr>\n",
       "    <tr>\n",
       "      <th>3</th>\n",
       "      <td>March 2021</td>\n",
       "      <td>258</td>\n",
       "    </tr>\n",
       "    <tr>\n",
       "      <th>4</th>\n",
       "      <td>April 2021</td>\n",
       "      <td>242</td>\n",
       "    </tr>\n",
       "    <tr>\n",
       "      <th>5</th>\n",
       "      <td>May 2021</td>\n",
       "      <td>249</td>\n",
       "    </tr>\n",
       "    <tr>\n",
       "      <th>6</th>\n",
       "      <td>June 2021</td>\n",
       "      <td>257</td>\n",
       "    </tr>\n",
       "    <tr>\n",
       "      <th>7</th>\n",
       "      <td>July 2021</td>\n",
       "      <td>249</td>\n",
       "    </tr>\n",
       "    <tr>\n",
       "      <th>8</th>\n",
       "      <td>August 2021</td>\n",
       "      <td>262</td>\n",
       "    </tr>\n",
       "    <tr>\n",
       "      <th>9</th>\n",
       "      <td>September 2021</td>\n",
       "      <td>113</td>\n",
       "    </tr>\n",
       "    <tr>\n",
       "      <th>10</th>\n",
       "      <td>October 2021</td>\n",
       "      <td>224</td>\n",
       "    </tr>\n",
       "    <tr>\n",
       "      <th>11</th>\n",
       "      <td>November 2021</td>\n",
       "      <td>165</td>\n",
       "    </tr>\n",
       "  </tbody>\n",
       "</table>\n",
       "</div>"
      ],
      "text/plain": [
       "             Month  Count\n",
       "0    December 2020    215\n",
       "1     January 2021    224\n",
       "2    February 2021    255\n",
       "3       March 2021    258\n",
       "4       April 2021    242\n",
       "5         May 2021    249\n",
       "6        June 2021    257\n",
       "7        July 2021    249\n",
       "8      August 2021    262\n",
       "9   September 2021    113\n",
       "10    October 2021    224\n",
       "11   November 2021    165"
      ]
     },
     "execution_count": 8,
     "metadata": {},
     "output_type": "execute_result"
    }
   ],
   "source": [
    "# Counting number of lodgements avaialable for each month\n",
    "\n",
    "avail = df.groupby(['Month'],sort=False, as_index=False)['name'].count()\n",
    "avail.columns = ['Month',\"Count\"]\n",
    "avail"
   ]
  },
  {
   "cell_type": "code",
   "execution_count": 9,
   "metadata": {
    "scrolled": true
   },
   "outputs": [
    {
     "data": {
      "image/png": "[encoded data removed]",
      "text/plain": [
       "<Figure size 432x288 with 1 Axes>"
      ]
     },
     "metadata": {
      "needs_background": "light"
     },
     "output_type": "display_data"
    }
   ],
   "source": [
    "# Plotting the graph for accomodations available per month\n",
    "\n",
    "x = avail['Month']\n",
    "y = avail['Count']\n",
    "plt.plot(x,y,color = 'orange', marker = 'D')  \n",
    "plt.ylim((0,280))\n",
    "plt.xticks(rotation = 90)\n",
    "plt.xlabel('Month', fontsize=12)\n",
    "plt.ylabel('# of available accomodations', fontsize=12)\n",
    "plt.title('Accomodations per Month', fontsize=20)\n",
    "plt.show()\n"
   ]
  },
  {
   "cell_type": "markdown",
   "metadata": {},
   "source": [
    "#### Insights from the graph: \n",
    "There is a sudden drop in the availability of hotels in September. On closer inspection, it is observed that the avergae is drastically down only during the weekend of 4-5 September which turns out to be the \"Braderie de Lille\" weekend. \n",
    "\n",
    "The drop is thus explained by 2 possibilities: \n",
    "- Hypothesis 1. Many of the hotels have been already booked so much in advance\n",
    "- Hypothesis 2. The hotels have chosen not to make the rooms available yet with hopes of higher prices in future (less likely)"
   ]
  },
  {
   "cell_type": "markdown",
   "metadata": {},
   "source": [
    "### Availability of Hotels VS Apartments Per Month :"
   ]
  },
  {
   "cell_type": "code",
   "execution_count": 10,
   "metadata": {},
   "outputs": [
    {
     "data": {
      "text/plain": [
       "Apartment                            1380\n",
       "One-Bedroom Apartment                 227\n",
       "Studio                                223\n",
       "Two-Bedroom Apartment                 103\n",
       "Studio Apartment                      100\n",
       "Holiday Home                           64\n",
       "Double Room                            50\n",
       "Three-Bedroom Apartment                48\n",
       "Standard Double Room                   33\n",
       "Apartment with Terrace                 27\n",
       "Superior Double Room                   22\n",
       "Superior Apartment                     22\n",
       "Double Room with Private Bathroom      21\n",
       "Standard Apartment                     19\n",
       "Superior Studio                        18\n",
       "Name: room_type, dtype: int64"
      ]
     },
     "execution_count": 10,
     "metadata": {},
     "output_type": "execute_result"
    }
   ],
   "source": [
    "# Count of each room type\n",
    "df['room_type'].value_counts().head(15)"
   ]
  },
  {
   "cell_type": "code",
   "execution_count": 11,
   "metadata": {},
   "outputs": [
    {
     "data": {
      "text/html": [
       "<div>\n",
       "<style scoped>\n",
       "    .dataframe tbody tr th:only-of-type {\n",
       "        vertical-align: middle;\n",
       "    }\n",
       "\n",
       "    .dataframe tbody tr th {\n",
       "        vertical-align: top;\n",
       "    }\n",
       "\n",
       "    .dataframe thead th {\n",
       "        text-align: right;\n",
       "    }\n",
       "</style>\n",
       "<table border=\"1\" class=\"dataframe\">\n",
       "  <thead>\n",
       "    <tr style=\"text-align: right;\">\n",
       "      <th></th>\n",
       "      <th>Month</th>\n",
       "      <th>apartment_count</th>\n",
       "      <th>hotel_count</th>\n",
       "    </tr>\n",
       "  </thead>\n",
       "  <tbody>\n",
       "    <tr>\n",
       "      <th>0</th>\n",
       "      <td>December 2020</td>\n",
       "      <td>151</td>\n",
       "      <td>64</td>\n",
       "    </tr>\n",
       "    <tr>\n",
       "      <th>1</th>\n",
       "      <td>January 2021</td>\n",
       "      <td>170</td>\n",
       "      <td>54</td>\n",
       "    </tr>\n",
       "    <tr>\n",
       "      <th>2</th>\n",
       "      <td>February 2021</td>\n",
       "      <td>184</td>\n",
       "      <td>71</td>\n",
       "    </tr>\n",
       "    <tr>\n",
       "      <th>3</th>\n",
       "      <td>March 2021</td>\n",
       "      <td>188</td>\n",
       "      <td>70</td>\n",
       "    </tr>\n",
       "    <tr>\n",
       "      <th>4</th>\n",
       "      <td>April 2021</td>\n",
       "      <td>177</td>\n",
       "      <td>65</td>\n",
       "    </tr>\n",
       "    <tr>\n",
       "      <th>5</th>\n",
       "      <td>May 2021</td>\n",
       "      <td>180</td>\n",
       "      <td>69</td>\n",
       "    </tr>\n",
       "    <tr>\n",
       "      <th>6</th>\n",
       "      <td>June 2021</td>\n",
       "      <td>186</td>\n",
       "      <td>71</td>\n",
       "    </tr>\n",
       "    <tr>\n",
       "      <th>7</th>\n",
       "      <td>July 2021</td>\n",
       "      <td>181</td>\n",
       "      <td>68</td>\n",
       "    </tr>\n",
       "    <tr>\n",
       "      <th>8</th>\n",
       "      <td>August 2021</td>\n",
       "      <td>192</td>\n",
       "      <td>70</td>\n",
       "    </tr>\n",
       "    <tr>\n",
       "      <th>9</th>\n",
       "      <td>September 2021</td>\n",
       "      <td>70</td>\n",
       "      <td>43</td>\n",
       "    </tr>\n",
       "    <tr>\n",
       "      <th>10</th>\n",
       "      <td>October 2021</td>\n",
       "      <td>170</td>\n",
       "      <td>54</td>\n",
       "    </tr>\n",
       "    <tr>\n",
       "      <th>11</th>\n",
       "      <td>November 2021</td>\n",
       "      <td>134</td>\n",
       "      <td>31</td>\n",
       "    </tr>\n",
       "  </tbody>\n",
       "</table>\n",
       "</div>"
      ],
      "text/plain": [
       "             Month  apartment_count  hotel_count\n",
       "0    December 2020              151           64\n",
       "1     January 2021              170           54\n",
       "2    February 2021              184           71\n",
       "3       March 2021              188           70\n",
       "4       April 2021              177           65\n",
       "5         May 2021              180           69\n",
       "6        June 2021              186           71\n",
       "7        July 2021              181           68\n",
       "8      August 2021              192           70\n",
       "9   September 2021               70           43\n",
       "10    October 2021              170           54\n",
       "11   November 2021              134           31"
      ]
     },
     "execution_count": 11,
     "metadata": {},
     "output_type": "execute_result"
    }
   ],
   "source": [
    "# Count of apartments vs hotels\n",
    "hotel_or_apartment = df.loc[df['room_type'].str.contains('Apartment','Studio')].groupby(['Month'], sort=False, as_index=False)['name'].count()\n",
    "hotel = df.loc[~df['room_type'].str.contains('Apartment','Studio')].groupby(['Month'], sort=False, as_index=False)['name'].count()\n",
    "hotel_or_apartment.columns = ['Month','apartment_count']\n",
    "hotel_or_apartment['hotel_count'] = hotel['name']\n",
    "hotel_or_apartment"
   ]
  },
  {
   "cell_type": "code",
   "execution_count": 12,
   "metadata": {
    "scrolled": false
   },
   "outputs": [
    {
     "data": {
      "image/png": "[encoded data removed]",
      "text/plain": [
       "<Figure size 720x360 with 1 Axes>"
      ]
     },
     "metadata": {
      "needs_background": "light"
     },
     "output_type": "display_data"
    }
   ],
   "source": [
    "# Plotting availability of apartments vs hotels\n",
    "\n",
    "x = hotel_or_apartment['Month']\n",
    "y1 = hotel_or_apartment['apartment_count']\n",
    "y2 = hotel_or_apartment['hotel_count']\n",
    "\n",
    "fig, ax = plt.subplots(figsize=(10,5))\n",
    "\n",
    "xpos = np.arange(len(x))\n",
    "width = 0.4\n",
    "\n",
    "ax.bar(xpos - width/2, y1, width, label='Apartment Count', color = \"orange\")\n",
    "ax.bar(xpos + width/2, y2, width, label='Hotel Count', color = \"grey\")\n",
    "\n",
    "ax.set_xlabel('Month', fontsize=12)\n",
    "ax.set_ylabel('# of Available Apartments or Hotels', fontsize=12)\n",
    "ax.set_title('Apartment and Hotel Availability', fontsize=20)\n",
    "ax.set_xticks(xpos)\n",
    "ax.set_xticklabels(x, rotation = 90)\n",
    "ax.legend()\n",
    "\n",
    "plt.show()\n"
   ]
  },
  {
   "cell_type": "markdown",
   "metadata": {},
   "source": [
    "#### Insights from the graph: \n",
    "\n",
    "- The ratio of hotels compared to apartments is very less; In most cases around two-third of the accomodations are apartments or studios.\n",
    "- The bars for September potentially suggest that apartments are booked faster than hotels, if we stick with hypothesis 1.\n",
    "- Alternatively, apartment owners want to keep their apartment for themselves during Braderie weekend\n"
   ]
  },
  {
   "cell_type": "markdown",
   "metadata": {},
   "source": [
    "### Accomodation Options in Different Areas : "
   ]
  },
  {
   "cell_type": "code",
   "execution_count": 13,
   "metadata": {
    "scrolled": true
   },
   "outputs": [
    {
     "data": {
      "text/html": [
       "<div>\n",
       "<style scoped>\n",
       "    .dataframe tbody tr th:only-of-type {\n",
       "        vertical-align: middle;\n",
       "    }\n",
       "\n",
       "    .dataframe tbody tr th {\n",
       "        vertical-align: top;\n",
       "    }\n",
       "\n",
       "    .dataframe thead th {\n",
       "        text-align: right;\n",
       "    }\n",
       "</style>\n",
       "<table border=\"1\" class=\"dataframe\">\n",
       "  <thead>\n",
       "    <tr style=\"text-align: right;\">\n",
       "      <th></th>\n",
       "      <th>Location</th>\n",
       "      <th>Accomodation Options</th>\n",
       "    </tr>\n",
       "  </thead>\n",
       "  <tbody>\n",
       "    <tr>\n",
       "      <th>0</th>\n",
       "      <td>Lille Sud</td>\n",
       "      <td>32</td>\n",
       "    </tr>\n",
       "    <tr>\n",
       "      <th>1</th>\n",
       "      <td>Lille</td>\n",
       "      <td>190</td>\n",
       "    </tr>\n",
       "    <tr>\n",
       "      <th>2</th>\n",
       "      <td>Vieux Lille</td>\n",
       "      <td>874</td>\n",
       "    </tr>\n",
       "    <tr>\n",
       "      <th>3</th>\n",
       "      <td>Lille Centre</td>\n",
       "      <td>1197</td>\n",
       "    </tr>\n",
       "    <tr>\n",
       "      <th>4</th>\n",
       "      <td>Fives</td>\n",
       "      <td>108</td>\n",
       "    </tr>\n",
       "    <tr>\n",
       "      <th>5</th>\n",
       "      <td>Vauban</td>\n",
       "      <td>71</td>\n",
       "    </tr>\n",
       "    <tr>\n",
       "      <th>6</th>\n",
       "      <td>Wazemmes</td>\n",
       "      <td>177</td>\n",
       "    </tr>\n",
       "    <tr>\n",
       "      <th>7</th>\n",
       "      <td>Bois Blancs</td>\n",
       "      <td>12</td>\n",
       "    </tr>\n",
       "    <tr>\n",
       "      <th>8</th>\n",
       "      <td>Moulins</td>\n",
       "      <td>40</td>\n",
       "    </tr>\n",
       "    <tr>\n",
       "      <th>9</th>\n",
       "      <td>Faubourg de Béthune</td>\n",
       "      <td>12</td>\n",
       "    </tr>\n",
       "  </tbody>\n",
       "</table>\n",
       "</div>"
      ],
      "text/plain": [
       "              Location  Accomodation Options\n",
       "0            Lille Sud                    32\n",
       "1                Lille                   190\n",
       "2          Vieux Lille                   874\n",
       "3         Lille Centre                  1197\n",
       "4                Fives                   108\n",
       "5               Vauban                    71\n",
       "6             Wazemmes                   177\n",
       "7          Bois Blancs                    12\n",
       "8              Moulins                    40\n",
       "9  Faubourg de Béthune                    12"
      ]
     },
     "execution_count": 13,
     "metadata": {},
     "output_type": "execute_result"
    }
   ],
   "source": [
    "# Counting number of hotels per location\n",
    "count_by_location = df.groupby(['location'], sort=False, as_index=False)['name'].count()\n",
    "count_by_location.columns = ['Location', 'Accomodation Options']\n",
    "count_by_location"
   ]
  },
  {
   "cell_type": "code",
   "execution_count": 14,
   "metadata": {},
   "outputs": [
    {
     "data": {
      "image/png": "[encoded data removed]",
      "text/plain": [
       "<Figure size 432x288 with 1 Axes>"
      ]
     },
     "metadata": {
      "needs_background": "light"
     },
     "output_type": "display_data"
    }
   ],
   "source": [
    "# Plotting bar graph of number of hotels per location\n",
    "\n",
    "x = count_by_location['Location']\n",
    "y = count_by_location['Accomodation Options']\n",
    "\n",
    "fig, ax = plt.subplots()\n",
    "\n",
    "xpos = np.arange(len(x))\n",
    "width = 0.6\n",
    "\n",
    "ax.bar(xpos, y, width, label='Accomodation Options', color = \"orange\")\n",
    "\n",
    "ax.set_xlabel('Location', fontsize=12)\n",
    "ax.set_ylabel('Accomodation Options', fontsize=12)\n",
    "ax.set_title('Accomodation Options Per Location', fontsize=20)\n",
    "ax.set_xticks(xpos)\n",
    "ax.set_xticklabels(x, rotation = 90)\n",
    "\n",
    "plt.show()\n"
   ]
  },
  {
   "cell_type": "markdown",
   "metadata": {},
   "source": [
    "#### Insights from the graph: \n",
    "\n",
    "- As expected, Lille Centre has maximum number of hotels, followed by Vieux Lille in a duration of 12 months"
   ]
  },
  {
   "cell_type": "markdown",
   "metadata": {},
   "source": [
    "# 2. Price Analysis"
   ]
  },
  {
   "cell_type": "markdown",
   "metadata": {},
   "source": [
    "### Calulating Average Price Per Night :"
   ]
  },
  {
   "cell_type": "code",
   "execution_count": 15,
   "metadata": {
    "scrolled": true
   },
   "outputs": [
    {
     "data": {
      "text/html": [
       "<div>\n",
       "<style scoped>\n",
       "    .dataframe tbody tr th:only-of-type {\n",
       "        vertical-align: middle;\n",
       "    }\n",
       "\n",
       "    .dataframe tbody tr th {\n",
       "        vertical-align: top;\n",
       "    }\n",
       "\n",
       "    .dataframe thead th {\n",
       "        text-align: right;\n",
       "    }\n",
       "</style>\n",
       "<table border=\"1\" class=\"dataframe\">\n",
       "  <thead>\n",
       "    <tr style=\"text-align: right;\">\n",
       "      <th></th>\n",
       "      <th>name</th>\n",
       "      <th>location</th>\n",
       "      <th>total_price</th>\n",
       "      <th>Nbr_of_nights</th>\n",
       "      <th>Nbr_of_persons</th>\n",
       "      <th>room_type</th>\n",
       "      <th>beds</th>\n",
       "      <th>rating</th>\n",
       "      <th>rating_title</th>\n",
       "      <th>number_of_ratings</th>\n",
       "      <th>distance_from_centre</th>\n",
       "      <th>start_date</th>\n",
       "      <th>end_date</th>\n",
       "      <th>breakfast_inclusion</th>\n",
       "      <th>free_cancellation</th>\n",
       "      <th>url</th>\n",
       "      <th>Month</th>\n",
       "      <th>avg_price_per_night</th>\n",
       "    </tr>\n",
       "  </thead>\n",
       "  <tbody>\n",
       "    <tr>\n",
       "      <th>0</th>\n",
       "      <td>Deffrennes</td>\n",
       "      <td>Lille Sud</td>\n",
       "      <td>880</td>\n",
       "      <td>30</td>\n",
       "      <td>2</td>\n",
       "      <td>Budget Double Room</td>\n",
       "      <td>1 double bed</td>\n",
       "      <td>5.9</td>\n",
       "      <td>Review score</td>\n",
       "      <td>441 reviews</td>\n",
       "      <td>2.8 km</td>\n",
       "      <td>Tuesday 1 December 2020</td>\n",
       "      <td>Thursday 31 December 2020</td>\n",
       "      <td>Not Included</td>\n",
       "      <td>FREE cancellation</td>\n",
       "      <td>https://www.booking.com/hotel/fr/deffrennes.en...</td>\n",
       "      <td>December 2020</td>\n",
       "      <td>29.333333</td>\n",
       "    </tr>\n",
       "  </tbody>\n",
       "</table>\n",
       "</div>"
      ],
      "text/plain": [
       "         name   location  total_price  Nbr_of_nights  Nbr_of_persons  \\\n",
       "0  Deffrennes  Lille Sud          880             30               2   \n",
       "\n",
       "            room_type          beds  rating  rating_title number_of_ratings  \\\n",
       "0  Budget Double Room  1 double bed     5.9  Review score       441 reviews   \n",
       "\n",
       "  distance_from_centre               start_date                   end_date  \\\n",
       "0               2.8 km  Tuesday 1 December 2020  Thursday 31 December 2020   \n",
       "\n",
       "  breakfast_inclusion  free_cancellation  \\\n",
       "0        Not Included  FREE cancellation   \n",
       "\n",
       "                                                 url          Month  \\\n",
       "0  https://www.booking.com/hotel/fr/deffrennes.en...  December 2020   \n",
       "\n",
       "   avg_price_per_night  \n",
       "0            29.333333  "
      ]
     },
     "execution_count": 15,
     "metadata": {},
     "output_type": "execute_result"
    }
   ],
   "source": [
    "# Converting total_price from object to integer\n",
    "df['total_price'] = df['total_price'].astype(int)\n",
    "\n",
    "# Calculating average price per night - total_price/number of nights\n",
    "df['avg_price_per_night'] = df['total_price']/df['Nbr_of_nights'].astype(int)\n",
    "df.head(1)"
   ]
  },
  {
   "cell_type": "markdown",
   "metadata": {},
   "source": [
    "### Price Per Night For Each Month :"
   ]
  },
  {
   "cell_type": "code",
   "execution_count": 16,
   "metadata": {},
   "outputs": [
    {
     "data": {
      "text/plain": [
       "array(['December 2020', 'January 2021', 'February 2021', 'March 2021',\n",
       "       'April 2021', 'May 2021', 'June 2021', 'July 2021', 'August 2021',\n",
       "       'September 2021', 'October 2021', 'November 2021'], dtype=object)"
      ]
     },
     "execution_count": 16,
     "metadata": {},
     "output_type": "execute_result"
    }
   ],
   "source": [
    "# Array of unique months\n",
    "global_month = df['Month'].unique()\n",
    "global_month"
   ]
  },
  {
   "cell_type": "code",
   "execution_count": 17,
   "metadata": {},
   "outputs": [
    {
     "data": {
      "text/plain": [
       "{'December 2020': 0       29.333333\n",
       " 1       41.666667\n",
       " 2       42.000000\n",
       " 3       44.366667\n",
       " 4       44.700000\n",
       "           ...    \n",
       " 210    205.833333\n",
       " 211    211.566667\n",
       " 212    212.133333\n",
       " 213    280.800000\n",
       " 214    660.000000\n",
       " Name: avg_price_per_night, Length: 215, dtype: float64,\n",
       " 'January 2021': 215     30.500000\n",
       " 216     39.800000\n",
       " 217     42.300000\n",
       " 218     45.000000\n",
       " 219     45.000000\n",
       "           ...    \n",
       " 434    278.566667\n",
       " 435    283.700000\n",
       " 436    312.000000\n",
       " 437    327.433333\n",
       " 438    414.933333\n",
       " Name: avg_price_per_night, Length: 224, dtype: float64,\n",
       " 'February 2021': 439     30.000000\n",
       " 440     39.814815\n",
       " 441     42.296296\n",
       " 442     45.000000\n",
       " 443     48.740741\n",
       "           ...    \n",
       " 689    377.629630\n",
       " 690    377.666667\n",
       " 691    386.111111\n",
       " 692    501.407407\n",
       " 693    613.074074\n",
       " Name: avg_price_per_night, Length: 255, dtype: float64,\n",
       " 'March 2021': 694     30.000000\n",
       " 695     39.800000\n",
       " 696     42.300000\n",
       " 697     45.000000\n",
       " 698     48.766667\n",
       "           ...    \n",
       " 947    274.366667\n",
       " 948    290.600000\n",
       " 949    312.000000\n",
       " 950    355.766667\n",
       " 951    435.833333\n",
       " Name: avg_price_per_night, Length: 258, dtype: float64,\n",
       " 'April 2021': 952      30.000000\n",
       " 953      39.793103\n",
       " 954      42.310345\n",
       " 955      45.000000\n",
       " 956      49.517241\n",
       "            ...    \n",
       " 1189    284.758621\n",
       " 1190    290.586207\n",
       " 1191    290.931034\n",
       " 1192    312.000000\n",
       " 1193    356.517241\n",
       " Name: avg_price_per_night, Length: 242, dtype: float64,\n",
       " 'May 2021': 1194     30.000000\n",
       " 1195     39.800000\n",
       " 1196     42.300000\n",
       " 1197     45.000000\n",
       " 1198     49.500000\n",
       "            ...    \n",
       " 1438    271.800000\n",
       " 1439    277.766667\n",
       " 1440    290.600000\n",
       " 1441    312.000000\n",
       " 1442    358.500000\n",
       " Name: avg_price_per_night, Length: 249, dtype: float64,\n",
       " 'June 2021': 1443     30.000000\n",
       " 1444     39.793103\n",
       " 1445     42.310345\n",
       " 1446     45.000000\n",
       " 1447     51.862069\n",
       "            ...    \n",
       " 1695    290.586207\n",
       " 1696    296.241379\n",
       " 1697    312.000000\n",
       " 1698    356.517241\n",
       " 1699    451.275862\n",
       " Name: avg_price_per_night, Length: 257, dtype: float64,\n",
       " 'July 2021': 1700     45.333333\n",
       " 1701     49.933333\n",
       " 1702     51.400000\n",
       " 1703     52.133333\n",
       " 1704     52.133333\n",
       "            ...    \n",
       " 1944    218.900000\n",
       " 1945    222.133333\n",
       " 1946    290.600000\n",
       " 1947    312.000000\n",
       " 1948    414.300000\n",
       " Name: avg_price_per_night, Length: 249, dtype: float64,\n",
       " 'August 2021': 1949     30.000000\n",
       " 1950     45.433333\n",
       " 1951     45.600000\n",
       " 1952     48.766667\n",
       " 1953     50.400000\n",
       "            ...    \n",
       " 2206    214.666667\n",
       " 2207    222.133333\n",
       " 2208    290.600000\n",
       " 2209    312.000000\n",
       " 2210    404.233333\n",
       " Name: avg_price_per_night, Length: 262, dtype: float64,\n",
       " 'September 2021': 2211     32.413793\n",
       " 2212     48.758621\n",
       " 2213     53.172414\n",
       " 2214     53.241379\n",
       " 2215     57.517241\n",
       "            ...    \n",
       " 2319    305.413793\n",
       " 2320    307.758621\n",
       " 2321    307.758621\n",
       " 2322    312.000000\n",
       " 2323    397.862069\n",
       " Name: avg_price_per_night, Length: 113, dtype: float64,\n",
       " 'October 2021': 2324     25.000000\n",
       " 2325     30.000000\n",
       " 2326     48.766667\n",
       " 2327     52.033333\n",
       " 2328     52.800000\n",
       "            ...    \n",
       " 2543    282.366667\n",
       " 2544    302.533333\n",
       " 2545    302.566667\n",
       " 2546    312.000000\n",
       " 2547    397.600000\n",
       " Name: avg_price_per_night, Length: 224, dtype: float64,\n",
       " 'November 2021': 2548      25.000000\n",
       " 2549      30.000000\n",
       " 2550      47.103448\n",
       " 2551      48.758621\n",
       " 2552      52.172414\n",
       "            ...     \n",
       " 2708     304.103448\n",
       " 2709     304.103448\n",
       " 2710     312.000000\n",
       " 2711     392.620690\n",
       " 2712    1389.034483\n",
       " Name: avg_price_per_night, Length: 165, dtype: float64}"
      ]
     },
     "execution_count": 17,
     "metadata": {},
     "output_type": "execute_result"
    }
   ],
   "source": [
    "# Creating a dictionary of month-wise average-price per night for each hotel\n",
    "data = {}\n",
    "for mon in global_month:\n",
    "    data[f\"{mon}\"] = df.loc[df['Month'].str.contains(mon)]['avg_price_per_night']\n",
    "   \n",
    "data"
   ]
  },
  {
   "cell_type": "code",
   "execution_count": 18,
   "metadata": {},
   "outputs": [],
   "source": [
    "# Creating a list of above dictionary \n",
    "final_data = [data[mon] for mon in global_month]"
   ]
  },
  {
   "cell_type": "code",
   "execution_count": 19,
   "metadata": {
    "scrolled": true
   },
   "outputs": [
    {
     "data": {
      "image/png": "[encoded data removed]",
      "text/plain": [
       "<Figure size 1080x648 with 1 Axes>"
      ]
     },
     "metadata": {
      "needs_background": "light"
     },
     "output_type": "display_data"
    }
   ],
   "source": [
    "# Create the boxplot\n",
    "fig, ax = plt.subplots(figsize=(15,9))\n",
    "x = global_month\n",
    "\n",
    "ax.set_xticklabels(x, rotation = 45)\n",
    "figout = ax.boxplot(final_data)"
   ]
  },
  {
   "cell_type": "markdown",
   "metadata": {},
   "source": [
    "#### Insights from the graph: \n",
    "\n",
    "- There is an extraordinary outlier in November 2021 which needs to be removed for better analysis.\n"
   ]
  },
  {
   "cell_type": "markdown",
   "metadata": {},
   "source": [
    "### Price Per Night For Each Month (removing the outlier) :"
   ]
  },
  {
   "cell_type": "code",
   "execution_count": 20,
   "metadata": {
    "scrolled": true
   },
   "outputs": [],
   "source": [
    "# Dropping the last row which represents the outlier in November 2021 in the above plot to get a more accurate graph\n",
    "df = df.drop(df.index[-1])"
   ]
  },
  {
   "cell_type": "code",
   "execution_count": 21,
   "metadata": {},
   "outputs": [],
   "source": [
    "# Updating the dictionary for November 2021 after removing the outlier\n",
    "\n",
    "data['November 2021'] = df.loc[df['Month'].str.contains('November 2021')]['avg_price_per_night']\n",
    "final_data = [data[mon] for mon in global_month]"
   ]
  },
  {
   "cell_type": "code",
   "execution_count": 22,
   "metadata": {
    "scrolled": true
   },
   "outputs": [
    {
     "data": {
      "text/plain": [
       "Text(0.5, 1.0, 'Avg. Price per Night by Month')"
      ]
     },
     "execution_count": 22,
     "metadata": {},
     "output_type": "execute_result"
    },
    {
     "data": {
      "image/png": "[encoded data removed]",
      "text/plain": [
       "<Figure size 1080x648 with 1 Axes>"
      ]
     },
     "metadata": {
      "needs_background": "light"
     },
     "output_type": "display_data"
    }
   ],
   "source": [
    "# Create the boxplot\n",
    "\n",
    "fig, ax = plt.subplots(figsize=(15,9))\n",
    "x = global_month\n",
    "\n",
    "ax.set_xticklabels(x, rotation = 45)\n",
    "figout = ax.boxplot(final_data)\n",
    "\n",
    "ax.set_xlabel('Month', fontsize=12)\n",
    "ax.set_ylabel('Average Price', fontsize=12)\n",
    "ax.set_title('Avg. Price per Night by Month', fontsize=20)\n"
   ]
  },
  {
   "cell_type": "markdown",
   "metadata": {},
   "source": [
    "#### Insights from the graph: \n",
    "\n",
    "- Overall, for all the months except September, it is observed that lower 50% of the hotels have similar or standard price range throughout the year\n",
    "- The higher end / top half of the hotels have varied prices across all months\n",
    "- September (being the festival month) and June (being the summer month) have a larger third quartile possibly because of higher earning scope suring those months"
   ]
  },
  {
   "cell_type": "markdown",
   "metadata": {},
   "source": [
    "### Price Per Location : "
   ]
  },
  {
   "cell_type": "code",
   "execution_count": 23,
   "metadata": {},
   "outputs": [],
   "source": [
    "# creating a variable global_location with all locations in Lille\n",
    "global_location = df['location'].unique()"
   ]
  },
  {
   "cell_type": "code",
   "execution_count": 24,
   "metadata": {},
   "outputs": [],
   "source": [
    "# Creating dictionary of location and corresponding average prices\n",
    "data = {}\n",
    "for loc in global_location:\n",
    "    data[f\"{loc}\"] = df.loc[df['location'].str.contains(loc)]['avg_price_per_night']"
   ]
  },
  {
   "cell_type": "code",
   "execution_count": 25,
   "metadata": {},
   "outputs": [],
   "source": [
    "# Creating a list of above dictionary \n",
    "final_data = [data[loc] for loc in global_location]"
   ]
  },
  {
   "cell_type": "code",
   "execution_count": 26,
   "metadata": {
    "scrolled": true
   },
   "outputs": [
    {
     "data": {
      "image/png": "[encoded data removed]",
      "text/plain": [
       "<Figure size 1080x648 with 1 Axes>"
      ]
     },
     "metadata": {
      "needs_background": "light"
     },
     "output_type": "display_data"
    }
   ],
   "source": [
    "# Create the boxplot\n",
    "fig, ax = plt.subplots(figsize=(15,9))\n",
    "x = global_location\n",
    "\n",
    "ax.set_xticklabels(x, rotation = 45)\n",
    "figout = ax.boxplot(final_data)"
   ]
  },
  {
   "cell_type": "markdown",
   "metadata": {},
   "source": [
    "#### Insights from the graph: \n",
    "\n",
    "- The plot for Bois Blancs is interesting. It apprears that there is only 1 hotel in Bois Blancs. This also posisbly explains why the median price of that location is higher than all other quartiers\n",
    "\n",
    "- Top 50% of the hotels in Vieux Lille is higher priced compared to top 50% in other locations\n",
    "\n",
    "- Faubourg de Béthune is a low-budget area"
   ]
  },
  {
   "cell_type": "markdown",
   "metadata": {},
   "source": [
    "### Average Price Per Location :"
   ]
  },
  {
   "cell_type": "code",
   "execution_count": 27,
   "metadata": {
    "scrolled": true
   },
   "outputs": [
    {
     "data": {
      "text/html": [
       "<div>\n",
       "<style scoped>\n",
       "    .dataframe tbody tr th:only-of-type {\n",
       "        vertical-align: middle;\n",
       "    }\n",
       "\n",
       "    .dataframe tbody tr th {\n",
       "        vertical-align: top;\n",
       "    }\n",
       "\n",
       "    .dataframe thead th {\n",
       "        text-align: right;\n",
       "    }\n",
       "</style>\n",
       "<table border=\"1\" class=\"dataframe\">\n",
       "  <thead>\n",
       "    <tr style=\"text-align: right;\">\n",
       "      <th></th>\n",
       "      <th>Location</th>\n",
       "      <th>Avg. Price per Night</th>\n",
       "    </tr>\n",
       "  </thead>\n",
       "  <tbody>\n",
       "    <tr>\n",
       "      <th>0</th>\n",
       "      <td>Lille Sud</td>\n",
       "      <td>70.83</td>\n",
       "    </tr>\n",
       "    <tr>\n",
       "      <th>1</th>\n",
       "      <td>Lille</td>\n",
       "      <td>77.06</td>\n",
       "    </tr>\n",
       "    <tr>\n",
       "      <th>2</th>\n",
       "      <td>Vieux Lille</td>\n",
       "      <td>107.59</td>\n",
       "    </tr>\n",
       "    <tr>\n",
       "      <th>3</th>\n",
       "      <td>Lille Centre</td>\n",
       "      <td>92.72</td>\n",
       "    </tr>\n",
       "    <tr>\n",
       "      <th>4</th>\n",
       "      <td>Fives</td>\n",
       "      <td>85.91</td>\n",
       "    </tr>\n",
       "    <tr>\n",
       "      <th>5</th>\n",
       "      <td>Vauban</td>\n",
       "      <td>116.91</td>\n",
       "    </tr>\n",
       "    <tr>\n",
       "      <th>6</th>\n",
       "      <td>Wazemmes</td>\n",
       "      <td>100.62</td>\n",
       "    </tr>\n",
       "    <tr>\n",
       "      <th>7</th>\n",
       "      <td>Bois Blancs</td>\n",
       "      <td>110.93</td>\n",
       "    </tr>\n",
       "    <tr>\n",
       "      <th>8</th>\n",
       "      <td>Moulins</td>\n",
       "      <td>94.06</td>\n",
       "    </tr>\n",
       "    <tr>\n",
       "      <th>9</th>\n",
       "      <td>Faubourg de Béthune</td>\n",
       "      <td>68.90</td>\n",
       "    </tr>\n",
       "  </tbody>\n",
       "</table>\n",
       "</div>"
      ],
      "text/plain": [
       "              Location  Avg. Price per Night\n",
       "0            Lille Sud                 70.83\n",
       "1                Lille                 77.06\n",
       "2          Vieux Lille                107.59\n",
       "3         Lille Centre                 92.72\n",
       "4                Fives                 85.91\n",
       "5               Vauban                116.91\n",
       "6             Wazemmes                100.62\n",
       "7          Bois Blancs                110.93\n",
       "8              Moulins                 94.06\n",
       "9  Faubourg de Béthune                 68.90"
      ]
     },
     "execution_count": 27,
     "metadata": {},
     "output_type": "execute_result"
    }
   ],
   "source": [
    "# Calculating avg. price per night for each quartier\n",
    "avg_price_by_location = df.groupby(['location'], sort=False, as_index=False)['avg_price_per_night'].mean().round(2)\n",
    "avg_price_by_location.columns = ['Location','Avg. Price per Night']\n",
    "avg_price_by_location"
   ]
  },
  {
   "cell_type": "code",
   "execution_count": 28,
   "metadata": {
    "scrolled": false
   },
   "outputs": [
    {
     "data": {
      "image/png": "[encoded data removed]",
      "text/plain": [
       "<Figure size 432x288 with 1 Axes>"
      ]
     },
     "metadata": {
      "needs_background": "light"
     },
     "output_type": "display_data"
    }
   ],
   "source": [
    "# Plotting average price per area in Lille\n",
    "x = avg_price_by_location['Location']\n",
    "y = avg_price_by_location['Avg. Price per Night']\n",
    "\n",
    "fig, ax = plt.subplots()\n",
    "\n",
    "xpos = np.arange(len(x))\n",
    "width = 0.6\n",
    "\n",
    "ax.bar(xpos, y, width, label='Avg. Price per Night', color = \"orange\")\n",
    "\n",
    "ax.set_xlabel('Location', fontsize=12)\n",
    "ax.set_ylabel('Avg. Price per Night', fontsize=12)\n",
    "ax.set_title('Average Price Per Night per Location', fontsize=20)\n",
    "ax.set_xticks(xpos)\n",
    "ax.set_xticklabels(x, rotation = 90)\n",
    "\n",
    "plt.show()\n"
   ]
  },
  {
   "cell_type": "code",
   "execution_count": 29,
   "metadata": {},
   "outputs": [],
   "source": [
    "# installing necessary packages for map visualization\n",
    "# pip install opencage\n",
    "# pip install plotly==4.12.0"
   ]
  },
  {
   "cell_type": "code",
   "execution_count": 30,
   "metadata": {},
   "outputs": [],
   "source": [
    "# importing opencage geocoder\n",
    "from opencage.geocoder import OpenCageGeocode"
   ]
  },
  {
   "cell_type": "code",
   "execution_count": 31,
   "metadata": {},
   "outputs": [
    {
     "data": {
      "text/plain": [
       "({'Lille Centre, Hauts-de-France': 50.6327393,\n",
       "  'Lille Sud, Hauts-de-France': 50.6087884,\n",
       "  'Fives, Hauts-de-France': 50.6285672,\n",
       "  'Wazemmes, Hauts-de-France': 50.6246036,\n",
       "  'Bois Blancs, Hauts-de-France': 50.6345058,\n",
       "  'Vieux Lille, Hauts-de-France': 50.6435745,\n",
       "  'Vauban, Hauts-de-France': 49.902754,\n",
       "  'Moulins, Hauts-de-France': 49.4217,\n",
       "  'Faubourg de Béthune, Hauts-de-France': 50.6179011},\n",
       " {'Lille Centre, Hauts-de-France': 3.0673255,\n",
       "  'Lille Sud, Hauts-de-France': 3.0446185,\n",
       "  'Fives, Hauts-de-France': 3.0903533,\n",
       "  'Wazemmes, Hauts-de-France': 3.0505748,\n",
       "  'Bois Blancs, Hauts-de-France': 3.0304363,\n",
       "  'Vieux Lille, Hauts-de-France': 3.0623372,\n",
       "  'Vauban, Hauts-de-France': 2.3032089,\n",
       "  'Moulins, Hauts-de-France': 3.6847,\n",
       "  'Faubourg de Béthune, Hauts-de-France': 3.0366424})"
      ]
     },
     "execution_count": 31,
     "metadata": {},
     "output_type": "execute_result"
    }
   ],
   "source": [
    "# Code to fetch longitude and latitudes of areas in Lille where these hotels are located\n",
    "\n",
    "key = '66aa6dea13c740b5aba9c9ed893e98dd'\n",
    "geocoder = OpenCageGeocode(key)\n",
    "query = ['Lille Centre, Hauts-de-France', 'Lille Sud, Hauts-de-France', 'Fives, Hauts-de-France', 'Wazemmes, Hauts-de-France', 'Bois Blancs, Hauts-de-France', 'Vieux Lille, Hauts-de-France', 'Vauban, Hauts-de-France', 'Moulins, Hauts-de-France','Faubourg de Béthune, Hauts-de-France']\n",
    "lat = {}\n",
    "lng = {}\n",
    "for q in query:\n",
    "    results = geocoder.geocode(q)\n",
    "    lat[q] = results[0]['geometry']['lat']\n",
    "    lng[q] = results[0]['geometry']['lng']\n",
    "lat, lng\n",
    "\n",
    "#Reference: #https://amaral.northwestern.edu/blog/getting-long-lat-list-cities"
   ]
  },
  {
   "cell_type": "code",
   "execution_count": 56,
   "metadata": {
    "scrolled": true
   },
   "outputs": [
    {
     "data": {
      "application/vnd.plotly.v1+json": {
       "config": {
        "plotlyServerURL": "https://plot.ly"
       },
       "data": [
        {
         "customdata": [
          [
           92.72,
           1197
          ],
          [
           70.83,
           32
          ],
          [
           85.91,
           108
          ],
          [
           100.62,
           177
          ],
          [
           110.93,
           12
          ],
          [
           107.59,
           874
          ],
          [
           116.91,
           71
          ],
          [
           94.06,
           40
          ],
          [
           68.9,
           12
          ]
         ],
         "hovertemplate": "<b>%{hovertext}</b><br><br>lat=%{lat}<br>lon=%{lon}<br>Avg_Price=%{customdata[0]}<br>Nbr_Hotels=%{customdata[1]}<extra></extra>",
         "hovertext": [
          "Lille Centre",
          "Lille Sud",
          "Fives",
          "Wazemmes",
          "Bois Blancs",
          "Vieux Lille",
          "Vauban",
          "Moulins",
          "Faubourg de Béthune"
         ],
         "lat": [
          50.636565399999995,
          50.608788399999995,
          50.6285672,
          50.6246036,
          50.6345058,
          50.6435745,
          50.6333099,
          50.620761,
          50.6179011
         ],
         "legendgroup": "",
         "lon": [
          3.0635282000000004,
          3.0446185000000003,
          3.0903533,
          3.0505748,
          3.0304363,
          3.0623372000000004,
          3.0416998,
          3.0715659,
          3.0366424
         ],
         "marker": {
          "color": "red"
         },
         "mode": "markers",
         "name": "",
         "showlegend": false,
         "subplot": "mapbox",
         "type": "scattermapbox"
        }
       ],
       "layout": {
        "height": 450,
        "legend": {
         "tracegroupgap": 0
        },
        "mapbox": {
         "center": {
          "lat": 50.627619655555556,
          "lon": 3.0546396
         },
         "domain": {
          "x": [
           0,
           1
          ],
          "y": [
           0,
           1
          ]
         },
         "style": "carto-positron",
         "zoom": 12
        },
        "margin": {
         "b": 0,
         "l": 0,
         "r": 0,
         "t": 0
        },
        "template": {
         "data": {
          "bar": [
           {
            "error_x": {
             "color": "#2a3f5f"
            },
            "error_y": {
             "color": "#2a3f5f"
            },
            "marker": {
             "line": {
              "color": "#E5ECF6",
              "width": 0.5
             }
            },
            "type": "bar"
           }
          ],
          "barpolar": [
           {
            "marker": {
             "line": {
              "color": "#E5ECF6",
              "width": 0.5
             }
            },
            "type": "barpolar"
           }
          ],
          "carpet": [
           {
            "aaxis": {
             "endlinecolor": "#2a3f5f",
             "gridcolor": "white",
             "linecolor": "white",
             "minorgridcolor": "white",
             "startlinecolor": "#2a3f5f"
            },
            "baxis": {
             "endlinecolor": "#2a3f5f",
             "gridcolor": "white",
             "linecolor": "white",
             "minorgridcolor": "white",
             "startlinecolor": "#2a3f5f"
            },
            "type": "carpet"
           }
          ],
          "choropleth": [
           {
            "colorbar": {
             "outlinewidth": 0,
             "ticks": ""
            },
            "type": "choropleth"
           }
          ],
          "contour": [
           {
            "colorbar": {
             "outlinewidth": 0,
             "ticks": ""
            },
            "colorscale": [
             [
              0,
              "#0d0887"
             ],
             [
              0.1111111111111111,
              "#46039f"
             ],
             [
              0.2222222222222222,
              "#7201a8"
             ],
             [
              0.3333333333333333,
              "#9c179e"
             ],
             [
              0.4444444444444444,
              "#bd3786"
             ],
             [
              0.5555555555555556,
              "#d8576b"
             ],
             [
              0.6666666666666666,
              "#ed7953"
             ],
             [
              0.7777777777777778,
              "#fb9f3a"
             ],
             [
              0.8888888888888888,
              "#fdca26"
             ],
             [
              1,
              "#f0f921"
             ]
            ],
            "type": "contour"
           }
          ],
          "contourcarpet": [
           {
            "colorbar": {
             "outlinewidth": 0,
             "ticks": ""
            },
            "type": "contourcarpet"
           }
          ],
          "heatmap": [
           {
            "colorbar": {
             "outlinewidth": 0,
             "ticks": ""
            },
            "colorscale": [
             [
              0,
              "#0d0887"
             ],
             [
              0.1111111111111111,
              "#46039f"
             ],
             [
              0.2222222222222222,
              "#7201a8"
             ],
             [
              0.3333333333333333,
              "#9c179e"
             ],
             [
              0.4444444444444444,
              "#bd3786"
             ],
             [
              0.5555555555555556,
              "#d8576b"
             ],
             [
              0.6666666666666666,
              "#ed7953"
             ],
             [
              0.7777777777777778,
              "#fb9f3a"
             ],
             [
              0.8888888888888888,
              "#fdca26"
             ],
             [
              1,
              "#f0f921"
             ]
            ],
            "type": "heatmap"
           }
          ],
          "heatmapgl": [
           {
            "colorbar": {
             "outlinewidth": 0,
             "ticks": ""
            },
            "colorscale": [
             [
              0,
              "#0d0887"
             ],
             [
              0.1111111111111111,
              "#46039f"
             ],
             [
              0.2222222222222222,
              "#7201a8"
             ],
             [
              0.3333333333333333,
              "#9c179e"
             ],
             [
              0.4444444444444444,
              "#bd3786"
             ],
             [
              0.5555555555555556,
              "#d8576b"
             ],
             [
              0.6666666666666666,
              "#ed7953"
             ],
             [
              0.7777777777777778,
              "#fb9f3a"
             ],
             [
              0.8888888888888888,
              "#fdca26"
             ],
             [
              1,
              "#f0f921"
             ]
            ],
            "type": "heatmapgl"
           }
          ],
          "histogram": [
           {
            "marker": {
             "colorbar": {
              "outlinewidth": 0,
              "ticks": ""
             }
            },
            "type": "histogram"
           }
          ],
          "histogram2d": [
           {
            "colorbar": {
             "outlinewidth": 0,
             "ticks": ""
            },
            "colorscale": [
             [
              0,
              "#0d0887"
             ],
             [
              0.1111111111111111,
              "#46039f"
             ],
             [
              0.2222222222222222,
              "#7201a8"
             ],
             [
              0.3333333333333333,
              "#9c179e"
             ],
             [
              0.4444444444444444,
              "#bd3786"
             ],
             [
              0.5555555555555556,
              "#d8576b"
             ],
             [
              0.6666666666666666,
              "#ed7953"
             ],
             [
              0.7777777777777778,
              "#fb9f3a"
             ],
             [
              0.8888888888888888,
              "#fdca26"
             ],
             [
              1,
              "#f0f921"
             ]
            ],
            "type": "histogram2d"
           }
          ],
          "histogram2dcontour": [
           {
            "colorbar": {
             "outlinewidth": 0,
             "ticks": ""
            },
            "colorscale": [
             [
              0,
              "#0d0887"
             ],
             [
              0.1111111111111111,
              "#46039f"
             ],
             [
              0.2222222222222222,
              "#7201a8"
             ],
             [
              0.3333333333333333,
              "#9c179e"
             ],
             [
              0.4444444444444444,
              "#bd3786"
             ],
             [
              0.5555555555555556,
              "#d8576b"
             ],
             [
              0.6666666666666666,
              "#ed7953"
             ],
             [
              0.7777777777777778,
              "#fb9f3a"
             ],
             [
              0.8888888888888888,
              "#fdca26"
             ],
             [
              1,
              "#f0f921"
             ]
            ],
            "type": "histogram2dcontour"
           }
          ],
          "mesh3d": [
           {
            "colorbar": {
             "outlinewidth": 0,
             "ticks": ""
            },
            "type": "mesh3d"
           }
          ],
          "parcoords": [
           {
            "line": {
             "colorbar": {
              "outlinewidth": 0,
              "ticks": ""
             }
            },
            "type": "parcoords"
           }
          ],
          "pie": [
           {
            "automargin": true,
            "type": "pie"
           }
          ],
          "scatter": [
           {
            "marker": {
             "colorbar": {
              "outlinewidth": 0,
              "ticks": ""
             }
            },
            "type": "scatter"
           }
          ],
          "scatter3d": [
           {
            "line": {
             "colorbar": {
              "outlinewidth": 0,
              "ticks": ""
             }
            },
            "marker": {
             "colorbar": {
              "outlinewidth": 0,
              "ticks": ""
             }
            },
            "type": "scatter3d"
           }
          ],
          "scattercarpet": [
           {
            "marker": {
             "colorbar": {
              "outlinewidth": 0,
              "ticks": ""
             }
            },
            "type": "scattercarpet"
           }
          ],
          "scattergeo": [
           {
            "marker": {
             "colorbar": {
              "outlinewidth": 0,
              "ticks": ""
             }
            },
            "type": "scattergeo"
           }
          ],
          "scattergl": [
           {
            "marker": {
             "colorbar": {
              "outlinewidth": 0,
              "ticks": ""
             }
            },
            "type": "scattergl"
           }
          ],
          "scattermapbox": [
           {
            "marker": {
             "colorbar": {
              "outlinewidth": 0,
              "ticks": ""
             }
            },
            "type": "scattermapbox"
           }
          ],
          "scatterpolar": [
           {
            "marker": {
             "colorbar": {
              "outlinewidth": 0,
              "ticks": ""
             }
            },
            "type": "scatterpolar"
           }
          ],
          "scatterpolargl": [
           {
            "marker": {
             "colorbar": {
              "outlinewidth": 0,
              "ticks": ""
             }
            },
            "type": "scatterpolargl"
           }
          ],
          "scatterternary": [
           {
            "marker": {
             "colorbar": {
              "outlinewidth": 0,
              "ticks": ""
             }
            },
            "type": "scatterternary"
           }
          ],
          "surface": [
           {
            "colorbar": {
             "outlinewidth": 0,
             "ticks": ""
            },
            "colorscale": [
             [
              0,
              "#0d0887"
             ],
             [
              0.1111111111111111,
              "#46039f"
             ],
             [
              0.2222222222222222,
              "#7201a8"
             ],
             [
              0.3333333333333333,
              "#9c179e"
             ],
             [
              0.4444444444444444,
              "#bd3786"
             ],
             [
              0.5555555555555556,
              "#d8576b"
             ],
             [
              0.6666666666666666,
              "#ed7953"
             ],
             [
              0.7777777777777778,
              "#fb9f3a"
             ],
             [
              0.8888888888888888,
              "#fdca26"
             ],
             [
              1,
              "#f0f921"
             ]
            ],
            "type": "surface"
           }
          ],
          "table": [
           {
            "cells": {
             "fill": {
              "color": "#EBF0F8"
             },
             "line": {
              "color": "white"
             }
            },
            "header": {
             "fill": {
              "color": "#C8D4E3"
             },
             "line": {
              "color": "white"
             }
            },
            "type": "table"
           }
          ]
         },
         "layout": {
          "annotationdefaults": {
           "arrowcolor": "#2a3f5f",
           "arrowhead": 0,
           "arrowwidth": 1
          },
          "coloraxis": {
           "colorbar": {
            "outlinewidth": 0,
            "ticks": ""
           }
          },
          "colorscale": {
           "diverging": [
            [
             0,
             "#8e0152"
            ],
            [
             0.1,
             "#c51b7d"
            ],
            [
             0.2,
             "#de77ae"
            ],
            [
             0.3,
             "#f1b6da"
            ],
            [
             0.4,
             "#fde0ef"
            ],
            [
             0.5,
             "#f7f7f7"
            ],
            [
             0.6,
             "#e6f5d0"
            ],
            [
             0.7,
             "#b8e186"
            ],
            [
             0.8,
             "#7fbc41"
            ],
            [
             0.9,
             "#4d9221"
            ],
            [
             1,
             "#276419"
            ]
           ],
           "sequential": [
            [
             0,
             "#0d0887"
            ],
            [
             0.1111111111111111,
             "#46039f"
            ],
            [
             0.2222222222222222,
             "#7201a8"
            ],
            [
             0.3333333333333333,
             "#9c179e"
            ],
            [
             0.4444444444444444,
             "#bd3786"
            ],
            [
             0.5555555555555556,
             "#d8576b"
            ],
            [
             0.6666666666666666,
             "#ed7953"
            ],
            [
             0.7777777777777778,
             "#fb9f3a"
            ],
            [
             0.8888888888888888,
             "#fdca26"
            ],
            [
             1,
             "#f0f921"
            ]
           ],
           "sequentialminus": [
            [
             0,
             "#0d0887"
            ],
            [
             0.1111111111111111,
             "#46039f"
            ],
            [
             0.2222222222222222,
             "#7201a8"
            ],
            [
             0.3333333333333333,
             "#9c179e"
            ],
            [
             0.4444444444444444,
             "#bd3786"
            ],
            [
             0.5555555555555556,
             "#d8576b"
            ],
            [
             0.6666666666666666,
             "#ed7953"
            ],
            [
             0.7777777777777778,
             "#fb9f3a"
            ],
            [
             0.8888888888888888,
             "#fdca26"
            ],
            [
             1,
             "#f0f921"
            ]
           ]
          },
          "colorway": [
           "#636efa",
           "#EF553B",
           "#00cc96",
           "#ab63fa",
           "#FFA15A",
           "#19d3f3",
           "#FF6692",
           "#B6E880",
           "#FF97FF",
           "#FECB52"
          ],
          "font": {
           "color": "#2a3f5f"
          },
          "geo": {
           "bgcolor": "white",
           "lakecolor": "white",
           "landcolor": "#E5ECF6",
           "showlakes": true,
           "showland": true,
           "subunitcolor": "white"
          },
          "hoverlabel": {
           "align": "left"
          },
          "hovermode": "closest",
          "mapbox": {
           "style": "light"
          },
          "paper_bgcolor": "white",
          "plot_bgcolor": "#E5ECF6",
          "polar": {
           "angularaxis": {
            "gridcolor": "white",
            "linecolor": "white",
            "ticks": ""
           },
           "bgcolor": "#E5ECF6",
           "radialaxis": {
            "gridcolor": "white",
            "linecolor": "white",
            "ticks": ""
           }
          },
          "scene": {
           "xaxis": {
            "backgroundcolor": "#E5ECF6",
            "gridcolor": "white",
            "gridwidth": 2,
            "linecolor": "white",
            "showbackground": true,
            "ticks": "",
            "zerolinecolor": "white"
           },
           "yaxis": {
            "backgroundcolor": "#E5ECF6",
            "gridcolor": "white",
            "gridwidth": 2,
            "linecolor": "white",
            "showbackground": true,
            "ticks": "",
            "zerolinecolor": "white"
           },
           "zaxis": {
            "backgroundcolor": "#E5ECF6",
            "gridcolor": "white",
            "gridwidth": 2,
            "linecolor": "white",
            "showbackground": true,
            "ticks": "",
            "zerolinecolor": "white"
           }
          },
          "shapedefaults": {
           "line": {
            "color": "#2a3f5f"
           }
          },
          "ternary": {
           "aaxis": {
            "gridcolor": "white",
            "linecolor": "white",
            "ticks": ""
           },
           "baxis": {
            "gridcolor": "white",
            "linecolor": "white",
            "ticks": ""
           },
           "bgcolor": "#E5ECF6",
           "caxis": {
            "gridcolor": "white",
            "linecolor": "white",
            "ticks": ""
           }
          },
          "title": {
           "x": 0.05
          },
          "xaxis": {
           "automargin": true,
           "gridcolor": "white",
           "linecolor": "white",
           "ticks": "",
           "title": {
            "standoff": 15
           },
           "zerolinecolor": "white",
           "zerolinewidth": 2
          },
          "yaxis": {
           "automargin": true,
           "gridcolor": "white",
           "linecolor": "white",
           "ticks": "",
           "title": {
            "standoff": 15
           },
           "zerolinecolor": "white",
           "zerolinewidth": 2
          }
         }
        },
        "title": {
         "text": "Average Prices per Area"
        },
        "width": 500
       }
      },
      "text/html": [
       "<div>                            <div id=\"eab3806d-780b-4ac8-afcd-42470ffb8cb3\" class=\"plotly-graph-div\" style=\"height:450px; width:500px;\"></div>            <script type=\"text/javascript\">                require([\"plotly\"], function(Plotly) {                    window.PLOTLYENV=window.PLOTLYENV || {};                                    if (document.getElementById(\"eab3806d-780b-4ac8-afcd-42470ffb8cb3\")) {                    Plotly.newPlot(                        \"eab3806d-780b-4ac8-afcd-42470ffb8cb3\",                        [{\"customdata\": [[92.72, 1197.0], [70.83, 32.0], [85.91, 108.0], [100.62, 177.0], [110.93, 12.0], [107.59, 874.0], [116.91, 71.0], [94.06, 40.0], [68.9, 12.0]], \"hovertemplate\": \"<b>%{hovertext}</b><br><br>lat=%{lat}<br>lon=%{lon}<br>Avg_Price=%{customdata[0]}<br>Nbr_Hotels=%{customdata[1]}<extra></extra>\", \"hovertext\": [\"Lille Centre\", \"Lille Sud\", \"Fives\", \"Wazemmes\", \"Bois Blancs\", \"Vieux Lille\", \"Vauban\", \"Moulins\", \"Faubourg de B\\u00e9thune\"], \"lat\": [50.636565399999995, 50.608788399999995, 50.6285672, 50.6246036, 50.6345058, 50.6435745, 50.6333099, 50.620761, 50.6179011], \"legendgroup\": \"\", \"lon\": [3.0635282000000004, 3.0446185000000003, 3.0903533, 3.0505748, 3.0304363, 3.0623372000000004, 3.0416998, 3.0715659, 3.0366424], \"marker\": {\"color\": \"red\"}, \"mode\": \"markers\", \"name\": \"\", \"showlegend\": false, \"subplot\": \"mapbox\", \"type\": \"scattermapbox\"}],                        {\"height\": 450, \"legend\": {\"tracegroupgap\": 0}, \"mapbox\": {\"center\": {\"lat\": 50.627619655555556, \"lon\": 3.0546396}, \"domain\": {\"x\": [0.0, 1.0], \"y\": [0.0, 1.0]}, \"style\": \"carto-positron\", \"zoom\": 12}, \"margin\": {\"b\": 0, \"l\": 0, \"r\": 0, \"t\": 0}, \"template\": {\"data\": {\"bar\": [{\"error_x\": {\"color\": \"#2a3f5f\"}, \"error_y\": {\"color\": \"#2a3f5f\"}, \"marker\": {\"line\": {\"color\": \"#E5ECF6\", \"width\": 0.5}}, \"type\": \"bar\"}], \"barpolar\": [{\"marker\": {\"line\": {\"color\": \"#E5ECF6\", \"width\": 0.5}}, \"type\": \"barpolar\"}], \"carpet\": [{\"aaxis\": {\"endlinecolor\": \"#2a3f5f\", \"gridcolor\": \"white\", \"linecolor\": \"white\", \"minorgridcolor\": \"white\", \"startlinecolor\": \"#2a3f5f\"}, \"baxis\": {\"endlinecolor\": \"#2a3f5f\", \"gridcolor\": \"white\", \"linecolor\": \"white\", \"minorgridcolor\": \"white\", \"startlinecolor\": \"#2a3f5f\"}, \"type\": \"carpet\"}], \"choropleth\": [{\"colorbar\": {\"outlinewidth\": 0, \"ticks\": \"\"}, \"type\": \"choropleth\"}], \"contour\": [{\"colorbar\": {\"outlinewidth\": 0, \"ticks\": \"\"}, \"colorscale\": [[0.0, \"#0d0887\"], [0.1111111111111111, \"#46039f\"], [0.2222222222222222, \"#7201a8\"], [0.3333333333333333, \"#9c179e\"], [0.4444444444444444, \"#bd3786\"], [0.5555555555555556, \"#d8576b\"], [0.6666666666666666, \"#ed7953\"], [0.7777777777777778, \"#fb9f3a\"], [0.8888888888888888, \"#fdca26\"], [1.0, \"#f0f921\"]], \"type\": \"contour\"}], \"contourcarpet\": [{\"colorbar\": {\"outlinewidth\": 0, \"ticks\": \"\"}, \"type\": \"contourcarpet\"}], \"heatmap\": [{\"colorbar\": {\"outlinewidth\": 0, \"ticks\": \"\"}, \"colorscale\": [[0.0, \"#0d0887\"], [0.1111111111111111, \"#46039f\"], [0.2222222222222222, \"#7201a8\"], [0.3333333333333333, \"#9c179e\"], [0.4444444444444444, \"#bd3786\"], [0.5555555555555556, \"#d8576b\"], [0.6666666666666666, \"#ed7953\"], [0.7777777777777778, \"#fb9f3a\"], [0.8888888888888888, \"#fdca26\"], [1.0, \"#f0f921\"]], \"type\": \"heatmap\"}], \"heatmapgl\": [{\"colorbar\": {\"outlinewidth\": 0, \"ticks\": \"\"}, \"colorscale\": [[0.0, \"#0d0887\"], [0.1111111111111111, \"#46039f\"], [0.2222222222222222, \"#7201a8\"], [0.3333333333333333, \"#9c179e\"], [0.4444444444444444, \"#bd3786\"], [0.5555555555555556, \"#d8576b\"], [0.6666666666666666, \"#ed7953\"], [0.7777777777777778, \"#fb9f3a\"], [0.8888888888888888, \"#fdca26\"], [1.0, \"#f0f921\"]], \"type\": \"heatmapgl\"}], \"histogram\": [{\"marker\": {\"colorbar\": {\"outlinewidth\": 0, \"ticks\": \"\"}}, \"type\": \"histogram\"}], \"histogram2d\": [{\"colorbar\": {\"outlinewidth\": 0, \"ticks\": \"\"}, \"colorscale\": [[0.0, \"#0d0887\"], [0.1111111111111111, \"#46039f\"], [0.2222222222222222, \"#7201a8\"], [0.3333333333333333, \"#9c179e\"], [0.4444444444444444, \"#bd3786\"], [0.5555555555555556, \"#d8576b\"], [0.6666666666666666, \"#ed7953\"], [0.7777777777777778, \"#fb9f3a\"], [0.8888888888888888, \"#fdca26\"], [1.0, \"#f0f921\"]], \"type\": \"histogram2d\"}], \"histogram2dcontour\": [{\"colorbar\": {\"outlinewidth\": 0, \"ticks\": \"\"}, \"colorscale\": [[0.0, \"#0d0887\"], [0.1111111111111111, \"#46039f\"], [0.2222222222222222, \"#7201a8\"], [0.3333333333333333, \"#9c179e\"], [0.4444444444444444, \"#bd3786\"], [0.5555555555555556, \"#d8576b\"], [0.6666666666666666, \"#ed7953\"], [0.7777777777777778, \"#fb9f3a\"], [0.8888888888888888, \"#fdca26\"], [1.0, \"#f0f921\"]], \"type\": \"histogram2dcontour\"}], \"mesh3d\": [{\"colorbar\": {\"outlinewidth\": 0, \"ticks\": \"\"}, \"type\": \"mesh3d\"}], \"parcoords\": [{\"line\": {\"colorbar\": {\"outlinewidth\": 0, \"ticks\": \"\"}}, \"type\": \"parcoords\"}], \"pie\": [{\"automargin\": true, \"type\": \"pie\"}], \"scatter\": [{\"marker\": {\"colorbar\": {\"outlinewidth\": 0, \"ticks\": \"\"}}, \"type\": \"scatter\"}], \"scatter3d\": [{\"line\": {\"colorbar\": {\"outlinewidth\": 0, \"ticks\": \"\"}}, \"marker\": {\"colorbar\": {\"outlinewidth\": 0, \"ticks\": \"\"}}, \"type\": \"scatter3d\"}], \"scattercarpet\": [{\"marker\": {\"colorbar\": {\"outlinewidth\": 0, \"ticks\": \"\"}}, \"type\": \"scattercarpet\"}], \"scattergeo\": [{\"marker\": {\"colorbar\": {\"outlinewidth\": 0, \"ticks\": \"\"}}, \"type\": \"scattergeo\"}], \"scattergl\": [{\"marker\": {\"colorbar\": {\"outlinewidth\": 0, \"ticks\": \"\"}}, \"type\": \"scattergl\"}], \"scattermapbox\": [{\"marker\": {\"colorbar\": {\"outlinewidth\": 0, \"ticks\": \"\"}}, \"type\": \"scattermapbox\"}], \"scatterpolar\": [{\"marker\": {\"colorbar\": {\"outlinewidth\": 0, \"ticks\": \"\"}}, \"type\": \"scatterpolar\"}], \"scatterpolargl\": [{\"marker\": {\"colorbar\": {\"outlinewidth\": 0, \"ticks\": \"\"}}, \"type\": \"scatterpolargl\"}], \"scatterternary\": [{\"marker\": {\"colorbar\": {\"outlinewidth\": 0, \"ticks\": \"\"}}, \"type\": \"scatterternary\"}], \"surface\": [{\"colorbar\": {\"outlinewidth\": 0, \"ticks\": \"\"}, \"colorscale\": [[0.0, \"#0d0887\"], [0.1111111111111111, \"#46039f\"], [0.2222222222222222, \"#7201a8\"], [0.3333333333333333, \"#9c179e\"], [0.4444444444444444, \"#bd3786\"], [0.5555555555555556, \"#d8576b\"], [0.6666666666666666, \"#ed7953\"], [0.7777777777777778, \"#fb9f3a\"], [0.8888888888888888, \"#fdca26\"], [1.0, \"#f0f921\"]], \"type\": \"surface\"}], \"table\": [{\"cells\": {\"fill\": {\"color\": \"#EBF0F8\"}, \"line\": {\"color\": \"white\"}}, \"header\": {\"fill\": {\"color\": \"#C8D4E3\"}, \"line\": {\"color\": \"white\"}}, \"type\": \"table\"}]}, \"layout\": {\"annotationdefaults\": {\"arrowcolor\": \"#2a3f5f\", \"arrowhead\": 0, \"arrowwidth\": 1}, \"coloraxis\": {\"colorbar\": {\"outlinewidth\": 0, \"ticks\": \"\"}}, \"colorscale\": {\"diverging\": [[0, \"#8e0152\"], [0.1, \"#c51b7d\"], [0.2, \"#de77ae\"], [0.3, \"#f1b6da\"], [0.4, \"#fde0ef\"], [0.5, \"#f7f7f7\"], [0.6, \"#e6f5d0\"], [0.7, \"#b8e186\"], [0.8, \"#7fbc41\"], [0.9, \"#4d9221\"], [1, \"#276419\"]], \"sequential\": [[0.0, \"#0d0887\"], [0.1111111111111111, \"#46039f\"], [0.2222222222222222, \"#7201a8\"], [0.3333333333333333, \"#9c179e\"], [0.4444444444444444, \"#bd3786\"], [0.5555555555555556, \"#d8576b\"], [0.6666666666666666, \"#ed7953\"], [0.7777777777777778, \"#fb9f3a\"], [0.8888888888888888, \"#fdca26\"], [1.0, \"#f0f921\"]], \"sequentialminus\": [[0.0, \"#0d0887\"], [0.1111111111111111, \"#46039f\"], [0.2222222222222222, \"#7201a8\"], [0.3333333333333333, \"#9c179e\"], [0.4444444444444444, \"#bd3786\"], [0.5555555555555556, \"#d8576b\"], [0.6666666666666666, \"#ed7953\"], [0.7777777777777778, \"#fb9f3a\"], [0.8888888888888888, \"#fdca26\"], [1.0, \"#f0f921\"]]}, \"colorway\": [\"#636efa\", \"#EF553B\", \"#00cc96\", \"#ab63fa\", \"#FFA15A\", \"#19d3f3\", \"#FF6692\", \"#B6E880\", \"#FF97FF\", \"#FECB52\"], \"font\": {\"color\": \"#2a3f5f\"}, \"geo\": {\"bgcolor\": \"white\", \"lakecolor\": \"white\", \"landcolor\": \"#E5ECF6\", \"showlakes\": true, \"showland\": true, \"subunitcolor\": \"white\"}, \"hoverlabel\": {\"align\": \"left\"}, \"hovermode\": \"closest\", \"mapbox\": {\"style\": \"light\"}, \"paper_bgcolor\": \"white\", \"plot_bgcolor\": \"#E5ECF6\", \"polar\": {\"angularaxis\": {\"gridcolor\": \"white\", \"linecolor\": \"white\", \"ticks\": \"\"}, \"bgcolor\": \"#E5ECF6\", \"radialaxis\": {\"gridcolor\": \"white\", \"linecolor\": \"white\", \"ticks\": \"\"}}, \"scene\": {\"xaxis\": {\"backgroundcolor\": \"#E5ECF6\", \"gridcolor\": \"white\", \"gridwidth\": 2, \"linecolor\": \"white\", \"showbackground\": true, \"ticks\": \"\", \"zerolinecolor\": \"white\"}, \"yaxis\": {\"backgroundcolor\": \"#E5ECF6\", \"gridcolor\": \"white\", \"gridwidth\": 2, \"linecolor\": \"white\", \"showbackground\": true, \"ticks\": \"\", \"zerolinecolor\": \"white\"}, \"zaxis\": {\"backgroundcolor\": \"#E5ECF6\", \"gridcolor\": \"white\", \"gridwidth\": 2, \"linecolor\": \"white\", \"showbackground\": true, \"ticks\": \"\", \"zerolinecolor\": \"white\"}}, \"shapedefaults\": {\"line\": {\"color\": \"#2a3f5f\"}}, \"ternary\": {\"aaxis\": {\"gridcolor\": \"white\", \"linecolor\": \"white\", \"ticks\": \"\"}, \"baxis\": {\"gridcolor\": \"white\", \"linecolor\": \"white\", \"ticks\": \"\"}, \"bgcolor\": \"#E5ECF6\", \"caxis\": {\"gridcolor\": \"white\", \"linecolor\": \"white\", \"ticks\": \"\"}}, \"title\": {\"x\": 0.05}, \"xaxis\": {\"automargin\": true, \"gridcolor\": \"white\", \"linecolor\": \"white\", \"ticks\": \"\", \"title\": {\"standoff\": 15}, \"zerolinecolor\": \"white\", \"zerolinewidth\": 2}, \"yaxis\": {\"automargin\": true, \"gridcolor\": \"white\", \"linecolor\": \"white\", \"ticks\": \"\", \"title\": {\"standoff\": 15}, \"zerolinecolor\": \"white\", \"zerolinewidth\": 2}}}, \"title\": {\"text\": \"Average Prices per Area\"}, \"width\": 500},                        {\"responsive\": true}                    ).then(function(){\n",
       "                            \n",
       "var gd = document.getElementById('eab3806d-780b-4ac8-afcd-42470ffb8cb3');\n",
       "var x = new MutationObserver(function (mutations, observer) {{\n",
       "        var display = window.getComputedStyle(gd).display;\n",
       "        if (!display || display === 'none') {{\n",
       "            console.log([gd, 'removed!']);\n",
       "            Plotly.purge(gd);\n",
       "            observer.disconnect();\n",
       "        }}\n",
       "}});\n",
       "\n",
       "// Listen for the removal of the full notebook cells\n",
       "var notebookContainer = gd.closest('#notebook-container');\n",
       "if (notebookContainer) {{\n",
       "    x.observe(notebookContainer, {childList: true});\n",
       "}}\n",
       "\n",
       "// Listen for the clearing of the current output cell\n",
       "var outputEl = gd.closest('.output');\n",
       "if (outputEl) {{\n",
       "    x.observe(outputEl, {childList: true});\n",
       "}}\n",
       "\n",
       "                        })                };                });            </script>        </div>"
      ]
     },
     "metadata": {},
     "output_type": "display_data"
    }
   ],
   "source": [
    "# Plotting a mapbox from Plotly package\n",
    "lille_quartiers = pd.read_csv(\"Lille Areas.csv\")\n",
    "\n",
    "import plotly.express as px\n",
    "\n",
    "fig = px.scatter_mapbox(lille_quartiers, lat=\"lat\", lon=\"lon\", hover_name=\"Area\", hover_data=[\"Avg_Price\", \"Nbr_Hotels\"],\n",
    "                        color_discrete_sequence=[\"red\"], zoom=12, height=450, width=500, size_max=100, title=\"Average Prices per Area\")\n",
    "fig.update_layout(mapbox_style=\"carto-positron\")\n",
    "fig.update_layout(margin={\"r\":0,\"t\":0,\"l\":0,\"b\":0})\n",
    "fig.show()\n",
    "\n",
    "#Reference: \n",
    "#https://plotly.com/python/scattermapbox/\n",
    "#https://plotly.com/python/mapbox-layers/"
   ]
  },
  {
   "cell_type": "markdown",
   "metadata": {},
   "source": [
    "#### Insights from the graph: \n",
    "\n",
    "- As the previous boxplot suggests, Faubourg de Béthune has lowest hotel prices and Bois Blancs is expensive compared to most others because of a hotel's monopoly in the area\n",
    "\n",
    "- However, while the boxplot gave an impression that possibly Lille Centre and Vieux Lille would be more expensive, it turns out that average price for Vauban is higher than all other areas\n"
   ]
  },
  {
   "cell_type": "markdown",
   "metadata": {},
   "source": [
    "### Average Price Per Quartier Per Month :"
   ]
  },
  {
   "cell_type": "code",
   "execution_count": 33,
   "metadata": {
    "scrolled": false
   },
   "outputs": [
    {
     "data": {
      "text/html": [
       "<div>\n",
       "<style scoped>\n",
       "    .dataframe tbody tr th:only-of-type {\n",
       "        vertical-align: middle;\n",
       "    }\n",
       "\n",
       "    .dataframe tbody tr th {\n",
       "        vertical-align: top;\n",
       "    }\n",
       "\n",
       "    .dataframe thead th {\n",
       "        text-align: right;\n",
       "    }\n",
       "</style>\n",
       "<table border=\"1\" class=\"dataframe\">\n",
       "  <thead>\n",
       "    <tr style=\"text-align: right;\">\n",
       "      <th></th>\n",
       "      <th>Month</th>\n",
       "      <th>location</th>\n",
       "      <th>avg_price_per_night</th>\n",
       "    </tr>\n",
       "  </thead>\n",
       "  <tbody>\n",
       "    <tr>\n",
       "      <th>0</th>\n",
       "      <td>December 2020</td>\n",
       "      <td>Lille Sud</td>\n",
       "      <td>41.400000</td>\n",
       "    </tr>\n",
       "    <tr>\n",
       "      <th>1</th>\n",
       "      <td>December 2020</td>\n",
       "      <td>Lille</td>\n",
       "      <td>67.548889</td>\n",
       "    </tr>\n",
       "    <tr>\n",
       "      <th>2</th>\n",
       "      <td>December 2020</td>\n",
       "      <td>Vieux Lille</td>\n",
       "      <td>97.144292</td>\n",
       "    </tr>\n",
       "    <tr>\n",
       "      <th>3</th>\n",
       "      <td>December 2020</td>\n",
       "      <td>Lille Centre</td>\n",
       "      <td>76.751852</td>\n",
       "    </tr>\n",
       "    <tr>\n",
       "      <th>4</th>\n",
       "      <td>December 2020</td>\n",
       "      <td>Fives</td>\n",
       "      <td>83.885714</td>\n",
       "    </tr>\n",
       "    <tr>\n",
       "      <th>...</th>\n",
       "      <td>...</td>\n",
       "      <td>...</td>\n",
       "      <td>...</td>\n",
       "    </tr>\n",
       "    <tr>\n",
       "      <th>113</th>\n",
       "      <td>November 2021</td>\n",
       "      <td>Wazemmes</td>\n",
       "      <td>106.279693</td>\n",
       "    </tr>\n",
       "    <tr>\n",
       "      <th>114</th>\n",
       "      <td>November 2021</td>\n",
       "      <td>Lille Centre</td>\n",
       "      <td>98.734280</td>\n",
       "    </tr>\n",
       "    <tr>\n",
       "      <th>115</th>\n",
       "      <td>November 2021</td>\n",
       "      <td>Vauban</td>\n",
       "      <td>127.456897</td>\n",
       "    </tr>\n",
       "    <tr>\n",
       "      <th>116</th>\n",
       "      <td>November 2021</td>\n",
       "      <td>Moulins</td>\n",
       "      <td>96.396552</td>\n",
       "    </tr>\n",
       "    <tr>\n",
       "      <th>117</th>\n",
       "      <td>November 2021</td>\n",
       "      <td>Bois Blancs</td>\n",
       "      <td>110.931034</td>\n",
       "    </tr>\n",
       "  </tbody>\n",
       "</table>\n",
       "<p>118 rows × 3 columns</p>\n",
       "</div>"
      ],
      "text/plain": [
       "             Month      location  avg_price_per_night\n",
       "0    December 2020     Lille Sud            41.400000\n",
       "1    December 2020         Lille            67.548889\n",
       "2    December 2020   Vieux Lille            97.144292\n",
       "3    December 2020  Lille Centre            76.751852\n",
       "4    December 2020         Fives            83.885714\n",
       "..             ...           ...                  ...\n",
       "113  November 2021      Wazemmes           106.279693\n",
       "114  November 2021  Lille Centre            98.734280\n",
       "115  November 2021        Vauban           127.456897\n",
       "116  November 2021       Moulins            96.396552\n",
       "117  November 2021   Bois Blancs           110.931034\n",
       "\n",
       "[118 rows x 3 columns]"
      ]
     },
     "execution_count": 33,
     "metadata": {},
     "output_type": "execute_result"
    }
   ],
   "source": [
    "#Avg price per area per month\n",
    "\n",
    "df_location = df.groupby(['Month','location'],sort=False, as_index = False)['avg_price_per_night'].mean()\n",
    "df_location"
   ]
  },
  {
   "cell_type": "code",
   "execution_count": 34,
   "metadata": {},
   "outputs": [],
   "source": [
    "selected_location = ['Lille Centre', 'Vieux Lille', 'Vauban', 'Moulins', 'Faubourg de Béthune']"
   ]
  },
  {
   "cell_type": "code",
   "execution_count": 35,
   "metadata": {},
   "outputs": [],
   "source": [
    "data = {}\n",
    "for locat in selected_location:\n",
    "    data[f\"{locat}\"] = df_location.loc[df_location['location'] == locat][['Month', 'avg_price_per_night']]"
   ]
  },
  {
   "cell_type": "code",
   "execution_count": 36,
   "metadata": {
    "scrolled": true
   },
   "outputs": [
    {
     "data": {
      "text/plain": [
       "<matplotlib.legend.Legend at 0x1ae0c583a90>"
      ]
     },
     "execution_count": 36,
     "metadata": {},
     "output_type": "execute_result"
    },
    {
     "data": {
      "image/png": "[encoded data removed]",
      "text/plain": [
       "<Figure size 720x432 with 1 Axes>"
      ]
     },
     "metadata": {
      "needs_background": "light"
     },
     "output_type": "display_data"
    }
   ],
   "source": [
    "fig, ax = plt.subplots(figsize=(10,6))\n",
    "\n",
    "for locat in selected_location:\n",
    "    ax.plot(data[locat]['Month'],data[locat]['avg_price_per_night'], linewidth=2)\n",
    "\n",
    "ax.set_xticklabels(global_month, rotation = 45)\n",
    "ax.set_xlabel('Month', fontsize=12)\n",
    "ax.set_ylabel('Avg. Price per Night', fontsize=12)\n",
    "ax.set_title('Avg. Price per Location per Month', fontsize=20)\n",
    "ax.legend(selected_location, bbox_to_anchor=(1.02, 1), loc='upper left')"
   ]
  },
  {
   "cell_type": "markdown",
   "metadata": {},
   "source": [
    "#### Insights from the graph: \n",
    "\n",
    "- This is super interesting. The average prices in Vauban are higher than others during January to May and then a sudden drop during the summer months June-August. Then again we see the prices increasing from September. The most obvious explanation would be that Vauban is a student quartier with most universities and colleges. Many students come from outside to Lille to study and go bak home / on vacation during the summer break so the prices go down. While January-February and  September sees peak of the season as many students would stay in hotels etc. until they find a long-term accomodation for themselves. \n",
    "\n",
    "- Vieux Lille and Lille Centre have somewhat similar trend in prices and are undoubtedly favourite tourist places in Lille for staying.The peak in September is explained earlier - Braderie de Lille that attracts 3 million visitors every year. \n",
    "\n",
    "- The constant low prices of Faubourg de Béthune are explained by its reputation as among the poorest and unsafe areas."
   ]
  },
  {
   "cell_type": "markdown",
   "metadata": {},
   "source": [
    "# 3. Ratings & Reviews Analysis "
   ]
  },
  {
   "cell_type": "markdown",
   "metadata": {},
   "source": [
    "### Number of Hotels with Specific Rating Titles in Different Locations :"
   ]
  },
  {
   "cell_type": "code",
   "execution_count": 37,
   "metadata": {
    "scrolled": true
   },
   "outputs": [],
   "source": [
    "#Rating titles by location\n",
    "new_df = df.dropna(subset=['rating_title'])\n",
    "\n",
    "#Counting number of hotels per location by rating titles\n",
    "location_rating = new_df.groupby(['location'])['rating_title'].value_counts(ascending = False)"
   ]
  },
  {
   "cell_type": "code",
   "execution_count": 38,
   "metadata": {},
   "outputs": [
    {
     "data": {
      "text/plain": [
       "location\n",
       "Bois Blancs            12\n",
       "Faubourg de Béthune    11\n",
       "Name: name, dtype: int64"
      ]
     },
     "execution_count": 38,
     "metadata": {},
     "output_type": "execute_result"
    }
   ],
   "source": [
    "# Number of hotels per location (removing nulls for rating title)\n",
    "count_by_location = new_df.groupby(['location'])['name'].count()\n",
    "count_by_location.head(2)"
   ]
  },
  {
   "cell_type": "code",
   "execution_count": 39,
   "metadata": {},
   "outputs": [
    {
     "data": {
      "text/plain": [
       "location             rating_title\n",
       "Bois Blancs          Fabulous        100.000000\n",
       "Faubourg de Béthune  Good             81.818182\n",
       "                     Review score     18.181818\n",
       "Fives                Fabulous         37.500000\n",
       "                     Very good        20.833333\n",
       "                     Good             18.750000\n",
       "                     Exceptional      12.500000\n",
       "                     Review score      8.333333\n",
       "                     Superb            2.083333\n",
       "Lille                Very good        48.305085\n",
       "                     Fabulous         19.491525\n",
       "                     Exceptional      15.254237\n",
       "                     Review score      9.322034\n",
       "                     Superb            6.779661\n",
       "                     Good              0.847458\n",
       "Lille Centre         Very good        41.845140\n",
       "                     Fabulous         17.627677\n",
       "                     Superb           13.838550\n",
       "                     Good             13.509061\n",
       "                     Review score      8.731466\n",
       "                     Exceptional       4.448105\n",
       "Lille Sud            Good             34.375000\n",
       "                     Review score     34.375000\n",
       "                     Very good        31.250000\n",
       "Moulins              Superb           40.000000\n",
       "                     Good             30.000000\n",
       "                     Review score     30.000000\n",
       "Vauban               Good             83.928571\n",
       "                     Very good        16.071429\n",
       "Vieux Lille          Superb           35.579515\n",
       "                     Very good        28.840970\n",
       "                     Fabulous         17.520216\n",
       "                     Good              8.894879\n",
       "                     Review score      7.547170\n",
       "                     Exceptional       1.617251\n",
       "Wazemmes             Very good        58.571429\n",
       "                     Good             15.714286\n",
       "                     Fabulous         11.428571\n",
       "                     Superb            8.571429\n",
       "                     Exceptional       5.714286\n",
       "dtype: float64"
      ]
     },
     "execution_count": 39,
     "metadata": {},
     "output_type": "execute_result"
    }
   ],
   "source": [
    "# Calculating % or proportion of each rating title in all locations\n",
    "(location_rating/count_by_location)*100"
   ]
  },
  {
   "cell_type": "markdown",
   "metadata": {},
   "source": [
    "### Average Ratings Per Location : "
   ]
  },
  {
   "cell_type": "code",
   "execution_count": 40,
   "metadata": {
    "scrolled": true
   },
   "outputs": [
    {
     "data": {
      "text/html": [
       "<div>\n",
       "<style scoped>\n",
       "    .dataframe tbody tr th:only-of-type {\n",
       "        vertical-align: middle;\n",
       "    }\n",
       "\n",
       "    .dataframe tbody tr th {\n",
       "        vertical-align: top;\n",
       "    }\n",
       "\n",
       "    .dataframe thead th {\n",
       "        text-align: right;\n",
       "    }\n",
       "</style>\n",
       "<table border=\"1\" class=\"dataframe\">\n",
       "  <thead>\n",
       "    <tr style=\"text-align: right;\">\n",
       "      <th></th>\n",
       "      <th>Location</th>\n",
       "      <th>Avg. Rating</th>\n",
       "    </tr>\n",
       "  </thead>\n",
       "  <tbody>\n",
       "    <tr>\n",
       "      <th>0</th>\n",
       "      <td>Lille Sud</td>\n",
       "      <td>7.028125</td>\n",
       "    </tr>\n",
       "    <tr>\n",
       "      <th>1</th>\n",
       "      <td>Lille</td>\n",
       "      <td>8.418644</td>\n",
       "    </tr>\n",
       "    <tr>\n",
       "      <th>2</th>\n",
       "      <td>Vieux Lille</td>\n",
       "      <td>8.430997</td>\n",
       "    </tr>\n",
       "    <tr>\n",
       "      <th>3</th>\n",
       "      <td>Lille Centre</td>\n",
       "      <td>8.246952</td>\n",
       "    </tr>\n",
       "    <tr>\n",
       "      <th>4</th>\n",
       "      <td>Vauban</td>\n",
       "      <td>7.491071</td>\n",
       "    </tr>\n",
       "    <tr>\n",
       "      <th>5</th>\n",
       "      <td>Fives</td>\n",
       "      <td>8.327083</td>\n",
       "    </tr>\n",
       "    <tr>\n",
       "      <th>6</th>\n",
       "      <td>Wazemmes</td>\n",
       "      <td>8.440000</td>\n",
       "    </tr>\n",
       "    <tr>\n",
       "      <th>7</th>\n",
       "      <td>Bois Blancs</td>\n",
       "      <td>8.700000</td>\n",
       "    </tr>\n",
       "    <tr>\n",
       "      <th>8</th>\n",
       "      <td>Moulins</td>\n",
       "      <td>8.030000</td>\n",
       "    </tr>\n",
       "    <tr>\n",
       "      <th>9</th>\n",
       "      <td>Faubourg de Béthune</td>\n",
       "      <td>6.318182</td>\n",
       "    </tr>\n",
       "  </tbody>\n",
       "</table>\n",
       "</div>"
      ],
      "text/plain": [
       "              Location  Avg. Rating\n",
       "0            Lille Sud     7.028125\n",
       "1                Lille     8.418644\n",
       "2          Vieux Lille     8.430997\n",
       "3         Lille Centre     8.246952\n",
       "4               Vauban     7.491071\n",
       "5                Fives     8.327083\n",
       "6             Wazemmes     8.440000\n",
       "7          Bois Blancs     8.700000\n",
       "8              Moulins     8.030000\n",
       "9  Faubourg de Béthune     6.318182"
      ]
     },
     "execution_count": 40,
     "metadata": {},
     "output_type": "execute_result"
    }
   ],
   "source": [
    "# Computing average rating for each area\n",
    "location_rating = new_df.groupby(['location'], sort = False, as_index=False)['rating'].mean()\n",
    "location_rating.columns = ['Location', 'Avg. Rating']\n",
    "location_rating"
   ]
  },
  {
   "cell_type": "code",
   "execution_count": 41,
   "metadata": {},
   "outputs": [
    {
     "data": {
      "image/png": "[encoded data removed]",
      "text/plain": [
       "<Figure size 432x288 with 1 Axes>"
      ]
     },
     "metadata": {
      "needs_background": "light"
     },
     "output_type": "display_data"
    }
   ],
   "source": [
    "# Plotting line graph for averagre rating per location\n",
    "x = location_rating['Location']\n",
    "y = location_rating['Avg. Rating']\n",
    "plt.plot(x,y,color = 'orange', marker = 'D')  \n",
    "plt.ylim((0,10))\n",
    "plt.xticks(rotation = 90)\n",
    "plt.xlabel('Location', fontsize=12)\n",
    "plt.ylabel('Avg. Rating', fontsize=12)\n",
    "plt.title('Avg. Hotel Ratings per Location', fontsize=20)\n",
    "plt.show()"
   ]
  },
  {
   "cell_type": "markdown",
   "metadata": {},
   "source": [
    "#### Insights from the graph: \n",
    "\n",
    "- The average rating of Faubourg de Bethune is lowest, most likely because of the other factors related to the area itself. Also as there are not any high end hotels (indicated by the lowest average pricing), this can be quite obvious."
   ]
  },
  {
   "cell_type": "markdown",
   "metadata": {},
   "source": [
    "### Relation of Avg. Price & Ratings :"
   ]
  },
  {
   "cell_type": "code",
   "execution_count": 42,
   "metadata": {},
   "outputs": [
    {
     "data": {
      "text/plain": [
       "location             rating_title\n",
       "Bois Blancs          Fabulous        110.931950\n",
       "Faubourg de Béthune  Good             71.863488\n",
       "                     Review score     25.000000\n",
       "Fives                Exceptional     199.000000\n",
       "                     Fabulous         81.910316\n",
       "                     Good             50.487867\n",
       "                     Review score     57.366667\n",
       "                     Superb           69.000000\n",
       "                     Very good       118.032822\n",
       "Lille                Exceptional      71.103271\n",
       "                     Fabulous         86.928791\n",
       "                     Good             68.400000\n",
       "                     Review score     52.657483\n",
       "                     Superb          124.231753\n",
       "                     Very good        72.571040\n",
       "Lille Centre         Exceptional     105.672806\n",
       "                     Fabulous        100.916507\n",
       "                     Good            124.184947\n",
       "                     Review score     79.828222\n",
       "                     Superb          122.651963\n",
       "                     Very good        97.728576\n",
       "Lille Sud            Good             66.655718\n",
       "                     Review score     30.204284\n",
       "                     Very good       120.098851\n",
       "Moulins              Good            161.024159\n",
       "                     Review score     42.302831\n",
       "                     Superb          119.000000\n",
       "Vauban               Good            137.748618\n",
       "                     Very good        76.345679\n",
       "Vieux Lille          Exceptional     198.404470\n",
       "                     Fabulous        134.849313\n",
       "                     Good            226.034401\n",
       "                     Review score     62.415225\n",
       "                     Superb          115.812805\n",
       "                     Very good       102.921944\n",
       "Wazemmes             Exceptional      98.000000\n",
       "                     Fabulous         60.000000\n",
       "                     Good             69.927935\n",
       "                     Superb           99.585185\n",
       "                     Very good        70.567019\n",
       "Name: avg_price_per_night, dtype: float64"
      ]
     },
     "execution_count": 42,
     "metadata": {},
     "output_type": "execute_result"
    }
   ],
   "source": [
    "df_ratings = df.groupby(['location','rating_title'])['avg_price_per_night'].mean()\n",
    "df_ratings"
   ]
  },
  {
   "cell_type": "markdown",
   "metadata": {},
   "source": [
    "### Number of Hotels Falling Under Which Rating Category :"
   ]
  },
  {
   "cell_type": "code",
   "execution_count": 43,
   "metadata": {},
   "outputs": [
    {
     "data": {
      "text/html": [
       "<div>\n",
       "<style scoped>\n",
       "    .dataframe tbody tr th:only-of-type {\n",
       "        vertical-align: middle;\n",
       "    }\n",
       "\n",
       "    .dataframe tbody tr th {\n",
       "        vertical-align: top;\n",
       "    }\n",
       "\n",
       "    .dataframe thead th {\n",
       "        text-align: right;\n",
       "    }\n",
       "</style>\n",
       "<table border=\"1\" class=\"dataframe\">\n",
       "  <thead>\n",
       "    <tr style=\"text-align: right;\">\n",
       "      <th></th>\n",
       "      <th>Rating</th>\n",
       "      <th>Count of Hotels</th>\n",
       "    </tr>\n",
       "  </thead>\n",
       "  <tbody>\n",
       "    <tr>\n",
       "      <th>0</th>\n",
       "      <td>Review score</td>\n",
       "      <td>115</td>\n",
       "    </tr>\n",
       "    <tr>\n",
       "      <th>1</th>\n",
       "      <td>Very good</td>\n",
       "      <td>488</td>\n",
       "    </tr>\n",
       "    <tr>\n",
       "      <th>2</th>\n",
       "      <td>Superb</td>\n",
       "      <td>239</td>\n",
       "    </tr>\n",
       "    <tr>\n",
       "      <th>3</th>\n",
       "      <td>Good</td>\n",
       "      <td>209</td>\n",
       "    </tr>\n",
       "    <tr>\n",
       "      <th>4</th>\n",
       "      <td>Fabulous</td>\n",
       "      <td>233</td>\n",
       "    </tr>\n",
       "    <tr>\n",
       "      <th>5</th>\n",
       "      <td>Exceptional</td>\n",
       "      <td>61</td>\n",
       "    </tr>\n",
       "  </tbody>\n",
       "</table>\n",
       "</div>"
      ],
      "text/plain": [
       "         Rating  Count of Hotels\n",
       "0  Review score              115\n",
       "1     Very good              488\n",
       "2        Superb              239\n",
       "3          Good              209\n",
       "4      Fabulous              233\n",
       "5   Exceptional               61"
      ]
     },
     "execution_count": 43,
     "metadata": {},
     "output_type": "execute_result"
    }
   ],
   "source": [
    "# Rating title with corresponding count of each \n",
    "\n",
    "title_count = df.groupby(['rating_title'], sort=False, as_index=False)['name'].count()\n",
    "title_count.columns = ['Rating', 'Count of Hotels']\n",
    "title_count"
   ]
  },
  {
   "cell_type": "code",
   "execution_count": 53,
   "metadata": {
    "scrolled": true
   },
   "outputs": [
    {
     "data": {
      "image/png": "[encoded data removed]",
      "text/plain": [
       "<Figure size 432x288 with 1 Axes>"
      ]
     },
     "metadata": {
      "needs_background": "light"
     },
     "output_type": "display_data"
    }
   ],
   "source": [
    "# Plotting a Seaborn scatterplot with rating per hotel on a scale of 10 on X axis and average price on the y-axis\n",
    "scatter_plot =sns.scatterplot(x=\"rating\", y=\"avg_price_per_night\",\n",
    "              hue=\"rating_title\", palette='viridis', data=df);"
   ]
  },
  {
   "cell_type": "code",
   "execution_count": 45,
   "metadata": {},
   "outputs": [
    {
     "data": {
      "text/html": [
       "<div>\n",
       "<style scoped>\n",
       "    .dataframe tbody tr th:only-of-type {\n",
       "        vertical-align: middle;\n",
       "    }\n",
       "\n",
       "    .dataframe tbody tr th {\n",
       "        vertical-align: top;\n",
       "    }\n",
       "\n",
       "    .dataframe thead th {\n",
       "        text-align: right;\n",
       "    }\n",
       "</style>\n",
       "<table border=\"1\" class=\"dataframe\">\n",
       "  <thead>\n",
       "    <tr style=\"text-align: right;\">\n",
       "      <th></th>\n",
       "      <th>name</th>\n",
       "      <th>location</th>\n",
       "      <th>total_price</th>\n",
       "      <th>Nbr_of_nights</th>\n",
       "      <th>Nbr_of_persons</th>\n",
       "      <th>room_type</th>\n",
       "      <th>beds</th>\n",
       "      <th>rating</th>\n",
       "      <th>rating_title</th>\n",
       "      <th>number_of_ratings</th>\n",
       "      <th>distance_from_centre</th>\n",
       "      <th>start_date</th>\n",
       "      <th>end_date</th>\n",
       "      <th>breakfast_inclusion</th>\n",
       "      <th>free_cancellation</th>\n",
       "      <th>url</th>\n",
       "      <th>Month</th>\n",
       "      <th>avg_price_per_night</th>\n",
       "    </tr>\n",
       "  </thead>\n",
       "  <tbody>\n",
       "    <tr>\n",
       "      <th>693</th>\n",
       "      <td>NOCNOC - La Villa Cachee</td>\n",
       "      <td>Lille Centre</td>\n",
       "      <td>16553</td>\n",
       "      <td>27</td>\n",
       "      <td>2</td>\n",
       "      <td>Villa</td>\n",
       "      <td>14 beds(7 singles, 5 doubles, 2 sofa beds)</td>\n",
       "      <td>7.8</td>\n",
       "      <td>Good</td>\n",
       "      <td>5 reviews</td>\n",
       "      <td>900 m</td>\n",
       "      <td>Monday 1 February 2021</td>\n",
       "      <td>Sunday 28 February 2021</td>\n",
       "      <td>Not Included</td>\n",
       "      <td>No Free Cancellation</td>\n",
       "      <td>https://www.booking.com/hotel/fr/la-villa-cach...</td>\n",
       "      <td>February 2021</td>\n",
       "      <td>613.074074</td>\n",
       "    </tr>\n",
       "    <tr>\n",
       "      <th>692</th>\n",
       "      <td>NOCNOC - Le grand National</td>\n",
       "      <td>Vauban</td>\n",
       "      <td>13538</td>\n",
       "      <td>27</td>\n",
       "      <td>2</td>\n",
       "      <td>Apartment</td>\n",
       "      <td>11 beds(4 singles, 7 doubles)</td>\n",
       "      <td>7.2</td>\n",
       "      <td>Good</td>\n",
       "      <td>18 reviews</td>\n",
       "      <td>1.2 km</td>\n",
       "      <td>Monday 1 February 2021</td>\n",
       "      <td>Sunday 28 February 2021</td>\n",
       "      <td>Not Included</td>\n",
       "      <td>No Free Cancellation</td>\n",
       "      <td>https://www.booking.com/hotel/fr/le-grand-nati...</td>\n",
       "      <td>February 2021</td>\n",
       "      <td>501.407407</td>\n",
       "    </tr>\n",
       "  </tbody>\n",
       "</table>\n",
       "</div>"
      ],
      "text/plain": [
       "                           name      location  total_price  Nbr_of_nights  \\\n",
       "693    NOCNOC - La Villa Cachee  Lille Centre        16553             27   \n",
       "692  NOCNOC - Le grand National        Vauban        13538             27   \n",
       "\n",
       "     Nbr_of_persons  room_type                                        beds  \\\n",
       "693               2      Villa  14 beds(7 singles, 5 doubles, 2 sofa beds)   \n",
       "692               2  Apartment               11 beds(4 singles, 7 doubles)   \n",
       "\n",
       "     rating rating_title number_of_ratings distance_from_centre  \\\n",
       "693     7.8         Good         5 reviews                900 m   \n",
       "692     7.2         Good        18 reviews               1.2 km   \n",
       "\n",
       "                 start_date                 end_date breakfast_inclusion  \\\n",
       "693  Monday 1 February 2021  Sunday 28 February 2021        Not Included   \n",
       "692  Monday 1 February 2021  Sunday 28 February 2021        Not Included   \n",
       "\n",
       "        free_cancellation                                                url  \\\n",
       "693  No Free Cancellation  https://www.booking.com/hotel/fr/la-villa-cach...   \n",
       "692  No Free Cancellation  https://www.booking.com/hotel/fr/le-grand-nati...   \n",
       "\n",
       "             Month  avg_price_per_night  \n",
       "693  February 2021           613.074074  \n",
       "692  February 2021           501.407407  "
      ]
     },
     "execution_count": 45,
     "metadata": {},
     "output_type": "execute_result"
    }
   ],
   "source": [
    "#Checking for outliers of good rating category\n",
    "good_outliers = df.loc[df['rating_title'] == \"Good\"].sort_values('avg_price_per_night', ascending = False)\n",
    "good_outliers.head(2)"
   ]
  },
  {
   "cell_type": "markdown",
   "metadata": {},
   "source": [
    "#### Insights from the graph: \n",
    "\n",
    "- As the ratings increase there's also a corresponding change in average price per night\n",
    "- The \"Very Good\" hotels are super bunched up, with the highest count of hotels being in Very Good category and their prices also being super competitive.\n",
    "- Most of the high price outliers in the \"Good\" range are from 2-3 properties in Vieux Lille consistently priced higher than properties in the \"Good\" range in other locations\n",
    "- The high price is because of 'NOCNOC - Grand Place - La Perle and Belle Vue'. However, the reason is that these are HUGE houses with 8-9 beds, hence high prices.\n"
   ]
  },
  {
   "cell_type": "markdown",
   "metadata": {},
   "source": [
    "# Correlation For Additional Services"
   ]
  },
  {
   "cell_type": "markdown",
   "metadata": {},
   "source": [
    "### Correlation Between Breakfast Inclusion, Free Cancellation, Price, Distance, Ratings : "
   ]
  },
  {
   "cell_type": "code",
   "execution_count": 46,
   "metadata": {},
   "outputs": [],
   "source": [
    "# Add new columns named 'breakfast' and 'cancellation' to convert strings into binary integers for computational purpose\n",
    "df['breakfast'] = [0 if x =='Not Included' else 1 for x in df['breakfast_inclusion']]\n",
    "df['cancellation'] = [1 if x =='FREE cancellation' else 0 for x in df['free_cancellation']] "
   ]
  },
  {
   "cell_type": "code",
   "execution_count": 47,
   "metadata": {},
   "outputs": [],
   "source": [
    "# Converting values in kms to mtrs to have the same measure of distance from cetre\n",
    "df['distance'] = [int(float(d.split()[0])*1000) if 'km' in d else int(d.split()[0]) for d in df['distance_from_centre']]"
   ]
  },
  {
   "cell_type": "code",
   "execution_count": 48,
   "metadata": {},
   "outputs": [],
   "source": [
    "# dropping the null values\n",
    "new_df1 = df.dropna()"
   ]
  },
  {
   "cell_type": "code",
   "execution_count": 49,
   "metadata": {},
   "outputs": [],
   "source": [
    "# Converting number of user reviews to integer\n",
    "df['reviews'] = new_df1['number_of_ratings'].str.split().str[0].str.replace(',', '').astype(int)"
   ]
  },
  {
   "cell_type": "code",
   "execution_count": 50,
   "metadata": {},
   "outputs": [],
   "source": [
    "# Converting total_price into integer\n",
    "df['total_price'] = df['total_price'].astype(int)"
   ]
  },
  {
   "cell_type": "code",
   "execution_count": 51,
   "metadata": {},
   "outputs": [
    {
     "data": {
      "text/html": [
       "<div>\n",
       "<style scoped>\n",
       "    .dataframe tbody tr th:only-of-type {\n",
       "        vertical-align: middle;\n",
       "    }\n",
       "\n",
       "    .dataframe tbody tr th {\n",
       "        vertical-align: top;\n",
       "    }\n",
       "\n",
       "    .dataframe thead th {\n",
       "        text-align: right;\n",
       "    }\n",
       "</style>\n",
       "<table border=\"1\" class=\"dataframe\">\n",
       "  <thead>\n",
       "    <tr style=\"text-align: right;\">\n",
       "      <th></th>\n",
       "      <th>rating</th>\n",
       "      <th>reviews</th>\n",
       "      <th>distance</th>\n",
       "      <th>total_price</th>\n",
       "      <th>breakfast</th>\n",
       "      <th>cancellation</th>\n",
       "    </tr>\n",
       "  </thead>\n",
       "  <tbody>\n",
       "    <tr>\n",
       "      <th>0</th>\n",
       "      <td>5.9</td>\n",
       "      <td>441.0</td>\n",
       "      <td>2800</td>\n",
       "      <td>880</td>\n",
       "      <td>0</td>\n",
       "      <td>1</td>\n",
       "    </tr>\n",
       "    <tr>\n",
       "      <th>1</th>\n",
       "      <td>8.1</td>\n",
       "      <td>52.0</td>\n",
       "      <td>3700</td>\n",
       "      <td>1250</td>\n",
       "      <td>0</td>\n",
       "      <td>1</td>\n",
       "    </tr>\n",
       "    <tr>\n",
       "      <th>2</th>\n",
       "      <td>NaN</td>\n",
       "      <td>NaN</td>\n",
       "      <td>550</td>\n",
       "      <td>1260</td>\n",
       "      <td>0</td>\n",
       "      <td>1</td>\n",
       "    </tr>\n",
       "    <tr>\n",
       "      <th>3</th>\n",
       "      <td>NaN</td>\n",
       "      <td>NaN</td>\n",
       "      <td>700</td>\n",
       "      <td>1331</td>\n",
       "      <td>0</td>\n",
       "      <td>1</td>\n",
       "    </tr>\n",
       "    <tr>\n",
       "      <th>4</th>\n",
       "      <td>NaN</td>\n",
       "      <td>NaN</td>\n",
       "      <td>1300</td>\n",
       "      <td>1341</td>\n",
       "      <td>0</td>\n",
       "      <td>1</td>\n",
       "    </tr>\n",
       "    <tr>\n",
       "      <th>...</th>\n",
       "      <td>...</td>\n",
       "      <td>...</td>\n",
       "      <td>...</td>\n",
       "      <td>...</td>\n",
       "      <td>...</td>\n",
       "      <td>...</td>\n",
       "    </tr>\n",
       "    <tr>\n",
       "      <th>2707</th>\n",
       "      <td>8.9</td>\n",
       "      <td>6.0</td>\n",
       "      <td>100</td>\n",
       "      <td>8229</td>\n",
       "      <td>0</td>\n",
       "      <td>0</td>\n",
       "    </tr>\n",
       "    <tr>\n",
       "      <th>2708</th>\n",
       "      <td>7.9</td>\n",
       "      <td>10.0</td>\n",
       "      <td>100</td>\n",
       "      <td>8819</td>\n",
       "      <td>0</td>\n",
       "      <td>0</td>\n",
       "    </tr>\n",
       "    <tr>\n",
       "      <th>2709</th>\n",
       "      <td>7.8</td>\n",
       "      <td>8.0</td>\n",
       "      <td>100</td>\n",
       "      <td>8819</td>\n",
       "      <td>0</td>\n",
       "      <td>0</td>\n",
       "    </tr>\n",
       "    <tr>\n",
       "      <th>2710</th>\n",
       "      <td>NaN</td>\n",
       "      <td>NaN</td>\n",
       "      <td>1000</td>\n",
       "      <td>9048</td>\n",
       "      <td>0</td>\n",
       "      <td>0</td>\n",
       "    </tr>\n",
       "    <tr>\n",
       "      <th>2711</th>\n",
       "      <td>7.8</td>\n",
       "      <td>5.0</td>\n",
       "      <td>900</td>\n",
       "      <td>11386</td>\n",
       "      <td>0</td>\n",
       "      <td>0</td>\n",
       "    </tr>\n",
       "  </tbody>\n",
       "</table>\n",
       "<p>2712 rows × 6 columns</p>\n",
       "</div>"
      ],
      "text/plain": [
       "      rating  reviews  distance  total_price  breakfast  cancellation\n",
       "0        5.9    441.0      2800          880          0             1\n",
       "1        8.1     52.0      3700         1250          0             1\n",
       "2        NaN      NaN       550         1260          0             1\n",
       "3        NaN      NaN       700         1331          0             1\n",
       "4        NaN      NaN      1300         1341          0             1\n",
       "...      ...      ...       ...          ...        ...           ...\n",
       "2707     8.9      6.0       100         8229          0             0\n",
       "2708     7.9     10.0       100         8819          0             0\n",
       "2709     7.8      8.0       100         8819          0             0\n",
       "2710     NaN      NaN      1000         9048          0             0\n",
       "2711     7.8      5.0       900        11386          0             0\n",
       "\n",
       "[2712 rows x 6 columns]"
      ]
     },
     "execution_count": 51,
     "metadata": {},
     "output_type": "execute_result"
    }
   ],
   "source": [
    "# Creating new dataframe with all the data cleaning changes made above\n",
    "corr_df = df.loc[:,['rating', 'reviews', 'distance', 'total_price','breakfast','cancellation']]\n",
    "corr_df"
   ]
  },
  {
   "cell_type": "code",
   "execution_count": 54,
   "metadata": {},
   "outputs": [
    {
     "data": {
      "text/plain": [
       "Text(0.5, 1.0, 'Correlation matrix')"
      ]
     },
     "execution_count": 54,
     "metadata": {},
     "output_type": "execute_result"
    },
    {
     "data": {
      "image/png": "[encoded data removed]",
      "text/plain": [
       "<Figure size 432x288 with 2 Axes>"
      ]
     },
     "metadata": {
      "needs_background": "light"
     },
     "output_type": "display_data"
    }
   ],
   "source": [
    "# Plotting a heatmap correlation matrix between several elements\n",
    "correlation_matrix = corr_df.corr()\n",
    "mask = np.zeros_like(correlation_matrix)\n",
    "mask[np.triu_indices_from(mask)] = True\n",
    "sns.heatmap(corrs, cmap='Spectral_r', mask=mask, square=True, vmin=-.4, vmax=.4)\n",
    "plt.title('Correlation matrix')\n",
    "\n",
    "#Reference: https://raphaelvallat.com/correlation.html"
   ]
  },
  {
   "cell_type": "markdown",
   "metadata": {},
   "source": [
    "#### Insights from the graph: \n",
    "\n",
    "**Note:**\n",
    "- Colors more towards red/orange - Higher positive correlation\n",
    "- Colors more towards blue/green - Higher negative correlation\n",
    "\n",
    "**Positive correlation** -\n",
    "\n",
    "- There is a direct correlation between inclusion of breakfast in the booking and the total price per night. Booking.com should do an analysis from historic data to see if its customers opt more for hotels with breakfast included. If yes, a strategy around this can be advantageous to the company. Even if the customers are paying little more for that, it isn't explicitly known.\n",
    "- Another interesting finding from this matrix is that there is a good correlation between 'breakfast' and 'cancellation', meaning that hotels that offer one of these services also tend to offer the other one\n",
    "- As we can expect, there is a correlation between price and ratings. Higher the ratings, higher the cost per night. \n",
    "- There is a slight positive correlation between free cancellation service and higher ratings. \n",
    "- Breakfast inclusion and the number of reviews for the hotel has a correclation of around 0.1 but further investigation is required from historic data to confirm this. \n",
    "\n",
    "**Negative correlation** -\n",
    "\n",
    "- Interestingly, as the hotels are closer to the city centre (distance), the ratings on an average are higher\n",
    "- As we can anticipate, hotels closer to the city centre are priced higher\n",
    "- The light green box at the intersection of distance and cancellation suggest that closer the hotel is to the centre, more options for free cancellation are available. Now, this could be because these hotels would have more assurance of being occupied even later while far away hotels cannot expect the same. "
   ]
  },
  {
   "cell_type": "markdown",
   "metadata": {},
   "source": [
    "# Thank You"
   ]
  }
 ],
 "metadata": {
  "kernelspec": {
   "display_name": "Python 3",
   "language": "python",
   "name": "python3"
  },
  "language_info": {
   "codemirror_mode": {
    "name": "ipython",
    "version": 3
   },
   "file_extension": ".py",
   "mimetype": "text/x-python",
   "name": "python",
   "nbconvert_exporter": "python",
   "pygments_lexer": "ipython3",
   "version": "3.8.3"
  }
 },
 "nbformat": 4,
 "nbformat_minor": 4
}
